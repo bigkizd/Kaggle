{
  "nbformat": 4,
  "nbformat_minor": 0,
  "metadata": {
    "colab": {
      "name": "Porto Seguro’s Safe Driver Prediction.ipynb",
      "version": "0.3.2",
      "provenance": [],
      "toc_visible": true,
      "include_colab_link": true
    },
    "kernelspec": {
      "name": "python3",
      "display_name": "Python 3"
    },
    "accelerator": "GPU"
  },
  "cells": [
    {
      "cell_type": "markdown",
      "metadata": {
        "id": "view-in-github",
        "colab_type": "text"
      },
      "source": [
        "<a href=\"https://colab.research.google.com/github/toandaominh1997/Kaggle/blob/master/Porto%20Seguro%E2%80%99s%20Safe%20Driver%20Prediction/Porto_Seguro%E2%80%99s_Safe_Driver_Prediction.ipynb\" target=\"_parent\"><img src=\"https://colab.research.google.com/assets/colab-badge.svg\" alt=\"Open In Colab\"/></a>"
      ]
    },
    {
      "metadata": {
        "id": "gjWJJQYxVpXX",
        "colab_type": "code",
        "colab": {}
      },
      "cell_type": "code",
      "source": [
        ""
      ],
      "execution_count": 0,
      "outputs": []
    },
    {
      "metadata": {
        "id": "OVuLqZxSVyUP",
        "colab_type": "code",
        "colab": {}
      },
      "cell_type": "code",
      "source": [
        ""
      ],
      "execution_count": 0,
      "outputs": []
    },
    {
      "metadata": {
        "id": "8uj9BPrjVzMJ",
        "colab_type": "text"
      },
      "cell_type": "markdown",
      "source": [
        "# Load packaging\n"
      ]
    },
    {
      "metadata": {
        "id": "aLhHCzliV1H2",
        "colab_type": "code",
        "colab": {}
      },
      "cell_type": "code",
      "source": [
        "import numpy as np\n",
        "import pandas as pd\n",
        "import os\n",
        "import sys\n"
      ],
      "execution_count": 0,
      "outputs": []
    },
    {
      "metadata": {
        "id": "RWuEY_KpV9QS",
        "colab_type": "code",
        "colab": {
          "base_uri": "https://localhost:8080/",
          "height": 122
        },
        "outputId": "d49df84e-1b92-428e-aa44-a71a09ffbebd"
      },
      "cell_type": "code",
      "source": [
        "COLAB=True\n",
        "if(COLAB):\n",
        "  from google.colab import drive\n",
        "  drive.mount('/content/drive/')\n",
        "else:\n",
        "  pass"
      ],
      "execution_count": 2,
      "outputs": [
        {
          "output_type": "stream",
          "text": [
            "Go to this URL in a browser: https://accounts.google.com/o/oauth2/auth?client_id=947318989803-6bn6qk8qdgf4n4g3pfee6491hc0brc4i.apps.googleusercontent.com&redirect_uri=urn%3Aietf%3Awg%3Aoauth%3A2.0%3Aoob&scope=email%20https%3A%2F%2Fwww.googleapis.com%2Fauth%2Fdocs.test%20https%3A%2F%2Fwww.googleapis.com%2Fauth%2Fdrive%20https%3A%2F%2Fwww.googleapis.com%2Fauth%2Fdrive.photos.readonly%20https%3A%2F%2Fwww.googleapis.com%2Fauth%2Fpeopleapi.readonly&response_type=code\n",
            "\n",
            "Enter your authorization code:\n",
            "··········\n",
            "Mounted at /content/drive/\n"
          ],
          "name": "stdout"
        }
      ]
    },
    {
      "metadata": {
        "id": "LkSPWITkWG0n",
        "colab_type": "code",
        "colab": {
          "base_uri": "https://localhost:8080/",
          "height": 1139
        },
        "outputId": "7d6ee0d8-50a4-4630-a15e-10441f2611a4"
      },
      "cell_type": "code",
      "source": [
        "path = '/content/drive/My Drive/Datasets/Porto Seguro’s Safe Driver Prediction/'\n",
        "train = pd.read_csv(path+'train.csv')\n",
        "test = pd.read_csv(path+'test.csv')\n",
        "print(\"Train Shape: \", train.shape)\n",
        "print(\"Test Shape: \", test.shape)\n",
        "train_id = train['id']\n",
        "test_id = test['id']\n",
        "y = train['target']\n",
        "train = train.drop(columns=['id', 'target'])\n",
        "test = test.drop(columns=['id'])\n",
        "df = pd.concat([train, test])\n",
        "print('Df Shape: ', df.shape)\n",
        "# # Info\n",
        "print(df.info())"
      ],
      "execution_count": 3,
      "outputs": [
        {
          "output_type": "stream",
          "text": [
            "Train Shape:  (595212, 59)\n",
            "Test Shape:  (892816, 58)\n",
            "Df Shape:  (1488028, 57)\n",
            "<class 'pandas.core.frame.DataFrame'>\n",
            "Int64Index: 1488028 entries, 0 to 892815\n",
            "Data columns (total 57 columns):\n",
            "ps_ind_01         1488028 non-null int64\n",
            "ps_ind_02_cat     1488028 non-null int64\n",
            "ps_ind_03         1488028 non-null int64\n",
            "ps_ind_04_cat     1488028 non-null int64\n",
            "ps_ind_05_cat     1488028 non-null int64\n",
            "ps_ind_06_bin     1488028 non-null int64\n",
            "ps_ind_07_bin     1488028 non-null int64\n",
            "ps_ind_08_bin     1488028 non-null int64\n",
            "ps_ind_09_bin     1488028 non-null int64\n",
            "ps_ind_10_bin     1488028 non-null int64\n",
            "ps_ind_11_bin     1488028 non-null int64\n",
            "ps_ind_12_bin     1488028 non-null int64\n",
            "ps_ind_13_bin     1488028 non-null int64\n",
            "ps_ind_14         1488028 non-null int64\n",
            "ps_ind_15         1488028 non-null int64\n",
            "ps_ind_16_bin     1488028 non-null int64\n",
            "ps_ind_17_bin     1488028 non-null int64\n",
            "ps_ind_18_bin     1488028 non-null int64\n",
            "ps_reg_01         1488028 non-null float64\n",
            "ps_reg_02         1488028 non-null float64\n",
            "ps_reg_03         1488028 non-null float64\n",
            "ps_car_01_cat     1488028 non-null int64\n",
            "ps_car_02_cat     1488028 non-null int64\n",
            "ps_car_03_cat     1488028 non-null int64\n",
            "ps_car_04_cat     1488028 non-null int64\n",
            "ps_car_05_cat     1488028 non-null int64\n",
            "ps_car_06_cat     1488028 non-null int64\n",
            "ps_car_07_cat     1488028 non-null int64\n",
            "ps_car_08_cat     1488028 non-null int64\n",
            "ps_car_09_cat     1488028 non-null int64\n",
            "ps_car_10_cat     1488028 non-null int64\n",
            "ps_car_11_cat     1488028 non-null int64\n",
            "ps_car_11         1488028 non-null int64\n",
            "ps_car_12         1488028 non-null float64\n",
            "ps_car_13         1488028 non-null float64\n",
            "ps_car_14         1488028 non-null float64\n",
            "ps_car_15         1488028 non-null float64\n",
            "ps_calc_01        1488028 non-null float64\n",
            "ps_calc_02        1488028 non-null float64\n",
            "ps_calc_03        1488028 non-null float64\n",
            "ps_calc_04        1488028 non-null int64\n",
            "ps_calc_05        1488028 non-null int64\n",
            "ps_calc_06        1488028 non-null int64\n",
            "ps_calc_07        1488028 non-null int64\n",
            "ps_calc_08        1488028 non-null int64\n",
            "ps_calc_09        1488028 non-null int64\n",
            "ps_calc_10        1488028 non-null int64\n",
            "ps_calc_11        1488028 non-null int64\n",
            "ps_calc_12        1488028 non-null int64\n",
            "ps_calc_13        1488028 non-null int64\n",
            "ps_calc_14        1488028 non-null int64\n",
            "ps_calc_15_bin    1488028 non-null int64\n",
            "ps_calc_16_bin    1488028 non-null int64\n",
            "ps_calc_17_bin    1488028 non-null int64\n",
            "ps_calc_18_bin    1488028 non-null int64\n",
            "ps_calc_19_bin    1488028 non-null int64\n",
            "ps_calc_20_bin    1488028 non-null int64\n",
            "dtypes: float64(10), int64(47)\n",
            "memory usage: 658.5 MB\n",
            "None\n"
          ],
          "name": "stdout"
        }
      ]
    },
    {
      "metadata": {
        "id": "XqJp_qaOWavC",
        "colab_type": "code",
        "colab": {
          "base_uri": "https://localhost:8080/",
          "height": 1054
        },
        "outputId": "4814cc4d-55c8-40f2-ece2-fe13a59effb4"
      },
      "cell_type": "code",
      "source": [
        "print(df.describe())"
      ],
      "execution_count": 4,
      "outputs": [
        {
          "output_type": "stream",
          "text": [
            "          ps_ind_01  ps_ind_02_cat     ps_ind_03  ps_ind_04_cat  \\\n",
            "count  1.488028e+06   1.488028e+06  1.488028e+06   1.488028e+06   \n",
            "mean   1.901574e+00   1.358745e+00  4.417567e+00   4.171346e-01   \n",
            "std    1.985417e+00   6.636391e-01  2.700054e+00   4.933963e-01   \n",
            "min    0.000000e+00  -1.000000e+00  0.000000e+00  -1.000000e+00   \n",
            "25%    0.000000e+00   1.000000e+00  2.000000e+00   0.000000e+00   \n",
            "50%    1.000000e+00   1.000000e+00  4.000000e+00   0.000000e+00   \n",
            "75%    3.000000e+00   2.000000e+00  6.000000e+00   1.000000e+00   \n",
            "max    7.000000e+00   4.000000e+00  1.100000e+01   1.000000e+00   \n",
            "\n",
            "       ps_ind_05_cat  ps_ind_06_bin  ps_ind_07_bin  ps_ind_08_bin  \\\n",
            "count   1.488028e+06   1.488028e+06   1.488028e+06   1.488028e+06   \n",
            "mean    4.069547e-01   3.934442e-01   2.571276e-01   1.637637e-01   \n",
            "std     1.353300e+00   4.885141e-01   4.370505e-01   3.700612e-01   \n",
            "min    -1.000000e+00   0.000000e+00   0.000000e+00   0.000000e+00   \n",
            "25%     0.000000e+00   0.000000e+00   0.000000e+00   0.000000e+00   \n",
            "50%     0.000000e+00   0.000000e+00   0.000000e+00   0.000000e+00   \n",
            "75%     0.000000e+00   1.000000e+00   1.000000e+00   0.000000e+00   \n",
            "max     6.000000e+00   1.000000e+00   1.000000e+00   1.000000e+00   \n",
            "\n",
            "       ps_ind_09_bin  ps_ind_10_bin       ...          ps_calc_11  \\\n",
            "count   1.488028e+06   1.488028e+06       ...        1.488028e+06   \n",
            "mean    1.856645e-01   3.729769e-04       ...        5.439640e+00   \n",
            "std     3.888358e-01   1.930901e-02       ...        2.331197e+00   \n",
            "min     0.000000e+00   0.000000e+00       ...        0.000000e+00   \n",
            "25%     0.000000e+00   0.000000e+00       ...        4.000000e+00   \n",
            "50%     0.000000e+00   0.000000e+00       ...        5.000000e+00   \n",
            "75%     0.000000e+00   0.000000e+00       ...        7.000000e+00   \n",
            "max     1.000000e+00   1.000000e+00       ...        2.000000e+01   \n",
            "\n",
            "         ps_calc_12    ps_calc_13    ps_calc_14  ps_calc_15_bin  \\\n",
            "count  1.488028e+06  1.488028e+06  1.488028e+06    1.488028e+06   \n",
            "mean   1.440927e+00  2.873923e+00  7.539831e+00    1.232027e-01   \n",
            "std    1.201557e+00  1.694398e+00  2.746189e+00    3.286698e-01   \n",
            "min    0.000000e+00  0.000000e+00  0.000000e+00    0.000000e+00   \n",
            "25%    1.000000e+00  2.000000e+00  6.000000e+00    0.000000e+00   \n",
            "50%    1.000000e+00  3.000000e+00  7.000000e+00    0.000000e+00   \n",
            "75%    2.000000e+00  4.000000e+00  9.000000e+00    0.000000e+00   \n",
            "max    1.100000e+01  1.500000e+01  2.800000e+01    1.000000e+00   \n",
            "\n",
            "       ps_calc_16_bin  ps_calc_17_bin  ps_calc_18_bin  ps_calc_19_bin  \\\n",
            "count    1.488028e+06    1.488028e+06    1.488028e+06    1.488028e+06   \n",
            "mean     6.277899e-01    5.544687e-01    2.875504e-01    3.492159e-01   \n",
            "std      4.833941e-01    4.970245e-01    4.526205e-01    4.767225e-01   \n",
            "min      0.000000e+00    0.000000e+00    0.000000e+00    0.000000e+00   \n",
            "25%      0.000000e+00    0.000000e+00    0.000000e+00    0.000000e+00   \n",
            "50%      1.000000e+00    1.000000e+00    0.000000e+00    0.000000e+00   \n",
            "75%      1.000000e+00    1.000000e+00    1.000000e+00    1.000000e+00   \n",
            "max      1.000000e+00    1.000000e+00    1.000000e+00    1.000000e+00   \n",
            "\n",
            "       ps_calc_20_bin  \n",
            "count    1.488028e+06  \n",
            "mean     1.527841e-01  \n",
            "std      3.597794e-01  \n",
            "min      0.000000e+00  \n",
            "25%      0.000000e+00  \n",
            "50%      0.000000e+00  \n",
            "75%      0.000000e+00  \n",
            "max      1.000000e+00  \n",
            "\n",
            "[8 rows x 57 columns]\n"
          ],
          "name": "stdout"
        }
      ]
    },
    {
      "metadata": {
        "id": "NZ3OqYqLWwLW",
        "colab_type": "code",
        "colab": {
          "base_uri": "https://localhost:8080/",
          "height": 68
        },
        "outputId": "fc84924b-9582-4857-eee4-1b2e8189e426"
      },
      "cell_type": "code",
      "source": [
        "# Check null\n",
        "def get_missing_features(df):\n",
        "  missings = pd.DataFrame([], columns=['feature', 'no_recoreds', 'percentage'])\n",
        "  total_rows = df.shape[0]\n",
        "  index=0\n",
        "  for feature in list(df):\n",
        "    total_nulls = df[feature].isnull().sum()\n",
        "    if(total_nulls>0):\n",
        "      missing_perc = total_nulls/total_rows\n",
        "      missings.loc[index] = [feature, total_nulls, missing_perc]\n",
        "      index+=1\n",
        "  missings = missings.sort_values('no_recoreds', ascending=False)\n",
        "  return missings\n",
        "df_missings = get_missing_features(train)\n",
        "print(df_missings)"
      ],
      "execution_count": 5,
      "outputs": [
        {
          "output_type": "stream",
          "text": [
            "Empty DataFrame\n",
            "Columns: [feature, no_recoreds, percentage]\n",
            "Index: []\n"
          ],
          "name": "stdout"
        }
      ]
    },
    {
      "metadata": {
        "id": "QXwZ84scXQGQ",
        "colab_type": "code",
        "colab": {
          "base_uri": "https://localhost:8080/",
          "height": 119
        },
        "outputId": "d33c22b2-ea16-4fec-f000-9a3134a820ee"
      },
      "cell_type": "code",
      "source": [
        "print(df.isnull().sum().sort_values(ascending=False).head(5))"
      ],
      "execution_count": 6,
      "outputs": [
        {
          "output_type": "stream",
          "text": [
            "ps_calc_20_bin    0\n",
            "ps_car_07_cat     0\n",
            "ps_car_05_cat     0\n",
            "ps_car_04_cat     0\n",
            "ps_car_03_cat     0\n",
            "dtype: int64\n"
          ],
          "name": "stdout"
        }
      ]
    },
    {
      "metadata": {
        "id": "NoSbaAmsXYzg",
        "colab_type": "code",
        "colab": {
          "base_uri": "https://localhost:8080/",
          "height": 34
        },
        "outputId": "627e812e-2d00-4e9e-e69c-2da471789670"
      },
      "cell_type": "code",
      "source": [
        "unique_values = df.nunique().sort_values(ascending=True)\n",
        "\n",
        "for col in df.columns:\n",
        "  if(df[col].nunique()<50):\n",
        "    df = pd.get_dummies(df, columns = [col], prefix=col, drop_first=True)\n",
        "print(df.shape)\n",
        "    \n",
        "  "
      ],
      "execution_count": 7,
      "outputs": [
        {
          "output_type": "stream",
          "text": [
            "(1488028, 339)\n"
          ],
          "name": "stdout"
        }
      ]
    },
    {
      "metadata": {
        "id": "S5BGUCDWij0j",
        "colab_type": "code",
        "colab": {}
      },
      "cell_type": "code",
      "source": [
        "from sklearn.model_selection import StratifiedKFold\n",
        "\n",
        "class Create_ensemble(object):\n",
        "    def __init__(self, n_splits, base_models):\n",
        "        self.n_splits = n_splits\n",
        "        self.base_models = base_models\n",
        "\n",
        "    def predict(self, X, y, T):\n",
        "        X = np.array(X)\n",
        "        y = np.array(y)\n",
        "        T = np.array(T)\n",
        "\n",
        "        folds = list(StratifiedKFold(n_splits=self.n_splits, shuffle=True, random_state=random_state).split(X, y))\n",
        "\n",
        "        S_train = np.zeros((X.shape[0], len(self.base_models)))\n",
        "        S_test = np.zeros((T.shape[0], len(self.base_models)))\n",
        "        \n",
        "        for i, clf in enumerate(self.base_models):\n",
        "            S_test_i = np.zeros((T.shape[0], self.n_splits))\n",
        "\n",
        "            for j, (train_idx, valid_idx) in enumerate(folds):\n",
        "                X_train = X[train_idx]\n",
        "                y_train = y[train_idx]\n",
        "                X_valid = X[valid_idx]\n",
        "                y_valid = y[valid_idx]\n",
        "                \n",
        "                clf.fit(X_train, y_train)\n",
        "                valid_pred = clf.predict_proba(X_valid)[:,1]\n",
        "                S_train[valid_idx, i] = valid_pred\n",
        "                S_test_i[:, j] = clf.predict_proba(T)[:,1]\n",
        "            \n",
        "            print( \"\\nTraining Gini for model {} : {}\".format(i, eval_gini(y, S_train[:,i])))\n",
        "            S_test[:, i] = S_test_i.mean(axis=1)\n",
        "            \n",
        "        return S_train, S_test\n",
        "# from https://www.kaggle.com/mashavasilenko/\n",
        "# porto-seguro-xgb-modeling-and-parameters-tuning\n",
        "def eval_gini(y_true, y_prob):\n",
        "    y_true = np.asarray(y_true)\n",
        "    y_true = y_true[np.argsort(y_prob)]\n",
        "    ntrue = 0\n",
        "    gini = 0\n",
        "    delta = 0\n",
        "    n = len(y_true)\n",
        "    for i in range(n-1, -1, -1):\n",
        "        y_i = y_true[i]\n",
        "        ntrue += y_i\n",
        "        gini += y_i * delta\n",
        "        delta += 1 - y_i\n",
        "    gini = 1 - 2 * gini / (ntrue * (n - ntrue))\n",
        "    return gini\n",
        "\n",
        "\n",
        "def gini_xgb(preds, dtrain):\n",
        "    labels = dtrain.get_label()\n",
        "    gini_score = -eval_gini(labels, preds)\n",
        "    return [('gini', gini_score)]\n",
        "\n",
        "def gini_normalized(a, p):\n",
        "    return gini(a, p) / gini(a, a)"
      ],
      "execution_count": 0,
      "outputs": []
    },
    {
      "metadata": {
        "id": "SkgXFpKsXfmy",
        "colab_type": "code",
        "colab": {
          "base_uri": "https://localhost:8080/",
          "height": 85
        },
        "outputId": "4b0f92a4-efbf-420b-9a22-13bae8c610ed"
      },
      "cell_type": "code",
      "source": [
        "!pip install lightgbm\n",
        "from lightgbm import LGBMClassifier\n",
        "random_state = 6\n",
        "# LightGBM params\n",
        "lgb_params = {}\n",
        "lgb_params['learning_rate'] = 0.02\n",
        "lgb_params['n_estimators'] = 700\n",
        "lgb_params['max_bin'] = 15\n",
        "lgb_params['subsample'] = 0.8\n",
        "lgb_params['subsample_freq'] = 10\n",
        "lgb_params['colsample_bytree'] = 0.8   \n",
        "lgb_params['min_child_samples'] = 800\n",
        "lgb_params['random_state'] = random_state\n",
        "lgb_params['scale_pos_weight'] = 3\n",
        "\n",
        "lgb_params2 = {}\n",
        "lgb_params2['learning_rate'] = 0.02\n",
        "lgb_params2['n_estimators'] = 900\n",
        "lgb_params2['max_bin'] = 20\n",
        "lgb_params2['subsample'] = 0.8\n",
        "lgb_params2['subsample_freq'] = 10\n",
        "lgb_params2['colsample_bytree'] = 0.8   \n",
        "lgb_params2['min_child_samples'] = 600\n",
        "lgb_params2['random_state'] = random_state\n",
        "lgb_params2['scale_pos_weight'] = 3\n",
        "\n",
        "lgb_model = LGBMClassifier(**lgb_params)\n",
        "lgb_model2 = LGBMClassifier(**lgb_params2)"
      ],
      "execution_count": 9,
      "outputs": [
        {
          "output_type": "stream",
          "text": [
            "Requirement already satisfied: lightgbm in /usr/local/lib/python3.6/dist-packages (2.2.2)\n",
            "Requirement already satisfied: numpy in /usr/local/lib/python3.6/dist-packages (from lightgbm) (1.14.6)\n",
            "Requirement already satisfied: scipy in /usr/local/lib/python3.6/dist-packages (from lightgbm) (1.1.0)\n",
            "Requirement already satisfied: scikit-learn in /usr/local/lib/python3.6/dist-packages (from lightgbm) (0.20.1)\n"
          ],
          "name": "stdout"
        }
      ]
    },
    {
      "metadata": {
        "id": "QpY3hnLyXmPo",
        "colab_type": "code",
        "colab": {
          "base_uri": "https://localhost:8080/",
          "height": 153
        },
        "outputId": "555608d4-1a93-417e-a7fa-44f08bc05c1f"
      },
      "cell_type": "code",
      "source": [
        "df_train = df.iloc[:train.shape[0], :]\n",
        "df_test = df.iloc[train.shape[0]:, :]\n",
        "print(df_train.shape)\n",
        "print(train.shape)\n",
        "print(df_test.shape)\n",
        "print(test.shape)\n",
        "\n",
        "lgb_stack = Create_ensemble(n_splits = 5, base_models = [lgb_model, lgb_model2])        \n",
        "X = df_train\n",
        "Y = y\n",
        "T = df_test\n",
        "lgb_train_pred, lgb_test_pred = lgb_stack.predict(X, Y, T)"
      ],
      "execution_count": 10,
      "outputs": [
        {
          "output_type": "stream",
          "text": [
            "(595212, 339)\n",
            "(595212, 57)\n",
            "(892816, 339)\n",
            "(892816, 57)\n",
            "\n",
            "Training Gini for model 0 : 0.2715522812390839\n",
            "\n",
            "Training Gini for model 1 : 0.27076584087229827\n"
          ],
          "name": "stdout"
        }
      ]
    },
    {
      "metadata": {
        "id": "Cf9fypYDX4Pr",
        "colab_type": "code",
        "colab": {}
      },
      "cell_type": "code",
      "source": [
        "sub = pd.DataFrame()\n",
        "sub['id'] = test_id\n",
        "sub['target'] = lgb_test_pred.mean(axis=1)\n",
        "sub.to_csv('lightgbm_submit_ensemble_features.csv', float_format='%.6f', index=False)"
      ],
      "execution_count": 0,
      "outputs": []
    },
    {
      "metadata": {
        "id": "i2iez_RpYQXj",
        "colab_type": "code",
        "colab": {
          "base_uri": "https://localhost:8080/",
          "height": 51
        },
        "outputId": "2d502cb4-e344-4cee-abd0-8412abc4f68a"
      },
      "cell_type": "code",
      "source": [
        "from sklearn.metrics import accuracy_score\n",
        "print(\"Train accuracy: \", accuracy_score(y_train, lr.predict(X_train)))\n",
        "\n",
        "print(\"Train accuracy: \", accuracy_score(y_val, lr.predict(X_val)))"
      ],
      "execution_count": 19,
      "outputs": [
        {
          "output_type": "stream",
          "text": [
            "Train accuracy:  0.9910526610539678\n",
            "Train accuracy:  0.962719666677867\n"
          ],
          "name": "stdout"
        }
      ]
    },
    {
      "metadata": {
        "id": "B7uhirR2Z53b",
        "colab_type": "code",
        "colab": {
          "base_uri": "https://localhost:8080/",
          "height": 34
        },
        "outputId": "b196650d-15dd-440f-f6f0-ae852de7bfe0"
      },
      "cell_type": "code",
      "source": [
        "print(lr.predict_proba(test)[:, 0])"
      ],
      "execution_count": 25,
      "outputs": [
        {
          "output_type": "stream",
          "text": [
            "[1.  0.8 0.8 ... 1.  0.9 1. ]\n"
          ],
          "name": "stdout"
        }
      ]
    },
    {
      "metadata": {
        "id": "ncqZgVIUYhZf",
        "colab_type": "code",
        "colab": {}
      },
      "cell_type": "code",
      "source": [
        "submit = pd.DataFrame()\n",
        "submit['id'] = test_id\n",
        "submit['target'] = lr.predict_proba(test)[:, 1]\n",
        "submit.to_csv('sub.csv', index=False)"
      ],
      "execution_count": 0,
      "outputs": []
    },
    {
      "metadata": {
        "id": "STWWUfZEZROK",
        "colab_type": "code",
        "colab": {}
      },
      "cell_type": "code",
      "source": [
        ""
      ],
      "execution_count": 0,
      "outputs": []
    }
  ]
}