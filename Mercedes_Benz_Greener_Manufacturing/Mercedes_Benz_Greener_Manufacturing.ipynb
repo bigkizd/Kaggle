{
  "nbformat": 4,
  "nbformat_minor": 0,
  "metadata": {
    "colab": {
      "name": "Mercedes-Benz Greener Manufacturing.ipynb",
      "version": "0.3.2",
      "provenance": [],
      "include_colab_link": true
    },
    "kernelspec": {
      "name": "python3",
      "display_name": "Python 3"
    },
    "accelerator": "GPU"
  },
  "cells": [
    {
      "cell_type": "markdown",
      "metadata": {
        "id": "view-in-github",
        "colab_type": "text"
      },
      "source": [
        "<a href=\"https://colab.research.google.com/github/toandaominh1997/Kaggle/blob/master/Mercedes_Benz_Greener_Manufacturing/Mercedes_Benz_Greener_Manufacturing.ipynb\" target=\"_parent\"><img src=\"https://colab.research.google.com/assets/colab-badge.svg\" alt=\"Open In Colab\"/></a>"
      ]
    },
    {
      "metadata": {
        "id": "Yyip5digXkDR",
        "colab_type": "code",
        "colab": {
          "base_uri": "https://localhost:8080/",
          "height": 122
        },
        "outputId": "0e39196b-29a7-4d9c-e8b5-1d2652ca31db"
      },
      "cell_type": "code",
      "source": [
        "from google.colab import drive\n",
        "drive.mount('/content/drive')"
      ],
      "execution_count": 1,
      "outputs": [
        {
          "output_type": "stream",
          "text": [
            "Go to this URL in a browser: https://accounts.google.com/o/oauth2/auth?client_id=947318989803-6bn6qk8qdgf4n4g3pfee6491hc0brc4i.apps.googleusercontent.com&redirect_uri=urn%3Aietf%3Awg%3Aoauth%3A2.0%3Aoob&scope=email%20https%3A%2F%2Fwww.googleapis.com%2Fauth%2Fdocs.test%20https%3A%2F%2Fwww.googleapis.com%2Fauth%2Fdrive%20https%3A%2F%2Fwww.googleapis.com%2Fauth%2Fdrive.photos.readonly%20https%3A%2F%2Fwww.googleapis.com%2Fauth%2Fpeopleapi.readonly&response_type=code\n",
            "\n",
            "Enter your authorization code:\n",
            "··········\n",
            "Mounted at /content/drive\n"
          ],
          "name": "stdout"
        }
      ]
    },
    {
      "metadata": {
        "id": "53NPqxTDX_B4",
        "colab_type": "code",
        "colab": {}
      },
      "cell_type": "code",
      "source": [
        "import os\n",
        "import pandas as pd\n",
        "import numpy as np\n",
        "URL = \"drive/My Drive/Dataset/Mercedes-Benz Greener Manufacturing/\""
      ],
      "execution_count": 0,
      "outputs": []
    },
    {
      "metadata": {
        "id": "WwtWTSmgYBNt",
        "colab_type": "code",
        "colab": {}
      },
      "cell_type": "code",
      "source": [
        "train = pd.read_csv(os.path.join(URL, \"train.csv\"))\n",
        "test = pd.read_csv(os.path.join(URL, \"test.csv\"))\n"
      ],
      "execution_count": 0,
      "outputs": []
    },
    {
      "metadata": {
        "id": "wB6Zjr4XYcL2",
        "colab_type": "code",
        "colab": {
          "base_uri": "https://localhost:8080/",
          "height": 51
        },
        "outputId": "485ed4db-e757-430e-d1a0-44f599696488"
      },
      "cell_type": "code",
      "source": [
        "train_y = train['y'].values\n",
        "test_id = test['ID'].values\n",
        "test_X = test.drop(columns=['ID'])\n",
        "\n",
        "train_X = train.drop(columns=['ID', 'y'])\n",
        "print(train_X.shape)\n",
        "print(train_y.shape)"
      ],
      "execution_count": 73,
      "outputs": [
        {
          "output_type": "stream",
          "text": [
            "(4209, 376)\n",
            "(4209,)\n"
          ],
          "name": "stdout"
        }
      ]
    },
    {
      "metadata": {
        "id": "XNZGREKhY3Hr",
        "colab_type": "code",
        "colab": {
          "base_uri": "https://localhost:8080/",
          "height": 233
        },
        "outputId": "a3216c7d-9e71-4ac1-ae95-dc10cc222636"
      },
      "cell_type": "code",
      "source": [
        "from sklearn import preprocessing\n",
        "\n",
        "pre = preprocessing.LabelEncoder()\n",
        "for i in range(0, 9):\n",
        "  train_X.iloc[:, i] = pre.fit_transform(train_X.iloc[:, i])\n",
        "  test_X.iloc[:, i] = pre.fit_transform(test_X.iloc[:, i])\n",
        "train_X.head()"
      ],
      "execution_count": 74,
      "outputs": [
        {
          "output_type": "execute_result",
          "data": {
            "text/html": [
              "<div>\n",
              "<style scoped>\n",
              "    .dataframe tbody tr th:only-of-type {\n",
              "        vertical-align: middle;\n",
              "    }\n",
              "\n",
              "    .dataframe tbody tr th {\n",
              "        vertical-align: top;\n",
              "    }\n",
              "\n",
              "    .dataframe thead th {\n",
              "        text-align: right;\n",
              "    }\n",
              "</style>\n",
              "<table border=\"1\" class=\"dataframe\">\n",
              "  <thead>\n",
              "    <tr style=\"text-align: right;\">\n",
              "      <th></th>\n",
              "      <th>X0</th>\n",
              "      <th>X1</th>\n",
              "      <th>X2</th>\n",
              "      <th>X3</th>\n",
              "      <th>X4</th>\n",
              "      <th>X5</th>\n",
              "      <th>X6</th>\n",
              "      <th>X8</th>\n",
              "      <th>X10</th>\n",
              "      <th>X11</th>\n",
              "      <th>...</th>\n",
              "      <th>X375</th>\n",
              "      <th>X376</th>\n",
              "      <th>X377</th>\n",
              "      <th>X378</th>\n",
              "      <th>X379</th>\n",
              "      <th>X380</th>\n",
              "      <th>X382</th>\n",
              "      <th>X383</th>\n",
              "      <th>X384</th>\n",
              "      <th>X385</th>\n",
              "    </tr>\n",
              "  </thead>\n",
              "  <tbody>\n",
              "    <tr>\n",
              "      <th>0</th>\n",
              "      <td>32</td>\n",
              "      <td>23</td>\n",
              "      <td>17</td>\n",
              "      <td>0</td>\n",
              "      <td>3</td>\n",
              "      <td>24</td>\n",
              "      <td>9</td>\n",
              "      <td>14</td>\n",
              "      <td>0</td>\n",
              "      <td>0</td>\n",
              "      <td>...</td>\n",
              "      <td>0</td>\n",
              "      <td>0</td>\n",
              "      <td>1</td>\n",
              "      <td>0</td>\n",
              "      <td>0</td>\n",
              "      <td>0</td>\n",
              "      <td>0</td>\n",
              "      <td>0</td>\n",
              "      <td>0</td>\n",
              "      <td>0</td>\n",
              "    </tr>\n",
              "    <tr>\n",
              "      <th>1</th>\n",
              "      <td>32</td>\n",
              "      <td>21</td>\n",
              "      <td>19</td>\n",
              "      <td>4</td>\n",
              "      <td>3</td>\n",
              "      <td>28</td>\n",
              "      <td>11</td>\n",
              "      <td>14</td>\n",
              "      <td>0</td>\n",
              "      <td>0</td>\n",
              "      <td>...</td>\n",
              "      <td>1</td>\n",
              "      <td>0</td>\n",
              "      <td>0</td>\n",
              "      <td>0</td>\n",
              "      <td>0</td>\n",
              "      <td>0</td>\n",
              "      <td>0</td>\n",
              "      <td>0</td>\n",
              "      <td>0</td>\n",
              "      <td>0</td>\n",
              "    </tr>\n",
              "    <tr>\n",
              "      <th>2</th>\n",
              "      <td>20</td>\n",
              "      <td>24</td>\n",
              "      <td>34</td>\n",
              "      <td>2</td>\n",
              "      <td>3</td>\n",
              "      <td>27</td>\n",
              "      <td>9</td>\n",
              "      <td>23</td>\n",
              "      <td>0</td>\n",
              "      <td>0</td>\n",
              "      <td>...</td>\n",
              "      <td>0</td>\n",
              "      <td>0</td>\n",
              "      <td>0</td>\n",
              "      <td>0</td>\n",
              "      <td>0</td>\n",
              "      <td>0</td>\n",
              "      <td>1</td>\n",
              "      <td>0</td>\n",
              "      <td>0</td>\n",
              "      <td>0</td>\n",
              "    </tr>\n",
              "    <tr>\n",
              "      <th>3</th>\n",
              "      <td>20</td>\n",
              "      <td>21</td>\n",
              "      <td>34</td>\n",
              "      <td>5</td>\n",
              "      <td>3</td>\n",
              "      <td>27</td>\n",
              "      <td>11</td>\n",
              "      <td>4</td>\n",
              "      <td>0</td>\n",
              "      <td>0</td>\n",
              "      <td>...</td>\n",
              "      <td>0</td>\n",
              "      <td>0</td>\n",
              "      <td>0</td>\n",
              "      <td>0</td>\n",
              "      <td>0</td>\n",
              "      <td>0</td>\n",
              "      <td>0</td>\n",
              "      <td>0</td>\n",
              "      <td>0</td>\n",
              "      <td>0</td>\n",
              "    </tr>\n",
              "    <tr>\n",
              "      <th>4</th>\n",
              "      <td>20</td>\n",
              "      <td>23</td>\n",
              "      <td>34</td>\n",
              "      <td>5</td>\n",
              "      <td>3</td>\n",
              "      <td>12</td>\n",
              "      <td>3</td>\n",
              "      <td>13</td>\n",
              "      <td>0</td>\n",
              "      <td>0</td>\n",
              "      <td>...</td>\n",
              "      <td>0</td>\n",
              "      <td>0</td>\n",
              "      <td>0</td>\n",
              "      <td>0</td>\n",
              "      <td>0</td>\n",
              "      <td>0</td>\n",
              "      <td>0</td>\n",
              "      <td>0</td>\n",
              "      <td>0</td>\n",
              "      <td>0</td>\n",
              "    </tr>\n",
              "  </tbody>\n",
              "</table>\n",
              "<p>5 rows × 376 columns</p>\n",
              "</div>"
            ],
            "text/plain": [
              "   X0  X1  X2  X3  X4  X5  X6  X8  X10  X11  ...   X375  X376  X377  X378  \\\n",
              "0  32  23  17   0   3  24   9  14    0    0  ...      0     0     1     0   \n",
              "1  32  21  19   4   3  28  11  14    0    0  ...      1     0     0     0   \n",
              "2  20  24  34   2   3  27   9  23    0    0  ...      0     0     0     0   \n",
              "3  20  21  34   5   3  27  11   4    0    0  ...      0     0     0     0   \n",
              "4  20  23  34   5   3  12   3  13    0    0  ...      0     0     0     0   \n",
              "\n",
              "   X379  X380  X382  X383  X384  X385  \n",
              "0     0     0     0     0     0     0  \n",
              "1     0     0     0     0     0     0  \n",
              "2     0     0     1     0     0     0  \n",
              "3     0     0     0     0     0     0  \n",
              "4     0     0     0     0     0     0  \n",
              "\n",
              "[5 rows x 376 columns]"
            ]
          },
          "metadata": {
            "tags": []
          },
          "execution_count": 74
        }
      ]
    },
    {
      "metadata": {
        "id": "Mgr3QqAEcqYe",
        "colab_type": "code",
        "colab": {
          "base_uri": "https://localhost:8080/",
          "height": 51
        },
        "outputId": "7125eb38-ce63-4f03-841f-202974582ceb"
      },
      "cell_type": "code",
      "source": [
        "print(train_X.shape)\n",
        "print(test_X.shape)"
      ],
      "execution_count": 75,
      "outputs": [
        {
          "output_type": "stream",
          "text": [
            "(4209, 376)\n",
            "(4209, 376)\n"
          ],
          "name": "stdout"
        }
      ]
    },
    {
      "metadata": {
        "id": "KlnUaPuheXYD",
        "colab_type": "code",
        "colab": {
          "base_uri": "https://localhost:8080/",
          "height": 68
        },
        "outputId": "8c44bff6-82db-4735-8cf0-1037e06619ca"
      },
      "cell_type": "code",
      "source": [
        "!pip install xgboost"
      ],
      "execution_count": 76,
      "outputs": [
        {
          "output_type": "stream",
          "text": [
            "Requirement already satisfied: xgboost in /usr/local/lib/python3.6/dist-packages (0.7.post4)\n",
            "Requirement already satisfied: numpy in /usr/local/lib/python3.6/dist-packages (from xgboost) (1.14.6)\n",
            "Requirement already satisfied: scipy in /usr/local/lib/python3.6/dist-packages (from xgboost) (0.19.1)\n"
          ],
          "name": "stdout"
        }
      ]
    },
    {
      "metadata": {
        "id": "075R2GmlaLaT",
        "colab_type": "code",
        "colab": {
          "base_uri": "https://localhost:8080/",
          "height": 612
        },
        "outputId": "84324e98-467b-431c-df3f-3e4d76544ff5"
      },
      "cell_type": "code",
      "source": [
        "import xgboost as xgb\n",
        "from sklearn.metrics import r2_score\n",
        "from sklearn.model_selection import train_test_split\n",
        "\n",
        "x_train, x_valid, y_train, y_valid = train_test_split(train_X, train_y, test_size=0.2, random_state=4242)\n",
        "\n",
        "d_train = xgb.DMatrix(x_train, label=y_train)\n",
        "d_valid = xgb.DMatrix(x_valid, label=y_valid)\n",
        "\n",
        "params = {}\n",
        "params['objective'] = 'reg:linear'\n",
        "params['eta'] = 0.02\n",
        "params['max_depth'] = 4\n",
        "\n",
        "def xgb_r2_score(preds, dtrain):\n",
        "    labels = dtrain.get_label()\n",
        "    return 'r2', r2_score(labels, preds)\n",
        "\n",
        "watchlist = [(d_train, 'train'), (d_valid, 'valid')]\n",
        "\n",
        "clf = xgb.train(params, d_train, 1000, watchlist, early_stopping_rounds=50, feval=xgb_r2_score, maximize=True, verbose_eval=10)"
      ],
      "execution_count": 77,
      "outputs": [
        {
          "output_type": "stream",
          "text": [
            "[0]\ttrain-rmse:99.1397\tvalid-rmse:98.2538\ttrain-r2:-58.3426\tvalid-r2:-67.6247\n",
            "Multiple eval metrics have been passed: 'valid-r2' will be used for early stopping.\n",
            "\n",
            "Will train until valid-r2 hasn't improved in 50 rounds.\n",
            "[10]\ttrain-rmse:81.1832\tvalid-rmse:80.2714\ttrain-r2:-38.7928\tvalid-r2:-44.804\n",
            "[20]\ttrain-rmse:66.541\tvalid-rmse:65.5967\ttrain-r2:-25.7332\tvalid-r2:-29.5876\n",
            "[30]\ttrain-rmse:54.6149\tvalid-rmse:53.6305\ttrain-r2:-17.0092\tvalid-r2:-19.4459\n",
            "[40]\ttrain-rmse:44.9172\tvalid-rmse:43.8842\ttrain-r2:-11.1814\tvalid-r2:-12.6899\n",
            "[50]\ttrain-rmse:37.0508\tvalid-rmse:35.9587\ttrain-r2:-7.28831\tvalid-r2:-8.19158\n",
            "[60]\ttrain-rmse:30.6912\tvalid-rmse:29.5297\ttrain-r2:-4.68722\tvalid-r2:-5.19867\n",
            "[70]\ttrain-rmse:25.5738\tvalid-rmse:24.3406\ttrain-r2:-2.94878\tvalid-r2:-3.21158\n",
            "[80]\ttrain-rmse:21.4816\tvalid-rmse:20.1727\ttrain-r2:-1.78616\tvalid-r2:-1.89273\n",
            "[90]\ttrain-rmse:18.2374\tvalid-rmse:16.8512\ttrain-r2:-1.00815\tvalid-r2:-1.01856\n",
            "[100]\ttrain-rmse:15.6927\tvalid-rmse:14.2334\ttrain-r2:-0.486848\tvalid-r2:-0.440129\n",
            "[110]\ttrain-rmse:13.7252\tvalid-rmse:12.193\ttrain-r2:-0.137389\tvalid-r2:-0.056829\n",
            "[120]\ttrain-rmse:12.2281\tvalid-rmse:10.636\ttrain-r2:0.0972\tvalid-r2:0.195842\n",
            "[130]\ttrain-rmse:11.1063\tvalid-rmse:9.47651\ttrain-r2:0.255244\tvalid-r2:0.36162\n",
            "[140]\ttrain-rmse:10.2822\tvalid-rmse:8.6363\ttrain-r2:0.361672\tvalid-r2:0.469802\n",
            "[150]\ttrain-rmse:9.68828\tvalid-rmse:8.03729\ttrain-r2:0.433285\tvalid-r2:0.540801\n",
            "[160]\ttrain-rmse:9.26339\tvalid-rmse:7.62328\ttrain-r2:0.481903\tvalid-r2:0.58689\n",
            "[170]\ttrain-rmse:8.95968\tvalid-rmse:7.3507\ttrain-r2:0.515318\tvalid-r2:0.615904\n",
            "[180]\ttrain-rmse:8.74359\tvalid-rmse:7.17509\ttrain-r2:0.538416\tvalid-r2:0.634038\n",
            "[190]\ttrain-rmse:8.59586\tvalid-rmse:7.06714\ttrain-r2:0.553881\tvalid-r2:0.644967\n",
            "[200]\ttrain-rmse:8.49118\tvalid-rmse:7.00118\ttrain-r2:0.564681\tvalid-r2:0.651563\n",
            "[210]\ttrain-rmse:8.41525\tvalid-rmse:6.96732\ttrain-r2:0.572432\tvalid-r2:0.654925\n",
            "[220]\ttrain-rmse:8.35841\tvalid-rmse:6.94721\ttrain-r2:0.578188\tvalid-r2:0.656915\n",
            "[230]\ttrain-rmse:8.31442\tvalid-rmse:6.94251\ttrain-r2:0.582616\tvalid-r2:0.657378\n",
            "[240]\ttrain-rmse:8.28262\tvalid-rmse:6.94159\ttrain-r2:0.585803\tvalid-r2:0.657469\n",
            "[250]\ttrain-rmse:8.25695\tvalid-rmse:6.94293\ttrain-r2:0.588366\tvalid-r2:0.657337\n",
            "[260]\ttrain-rmse:8.2323\tvalid-rmse:6.95165\ttrain-r2:0.590821\tvalid-r2:0.656475\n",
            "[270]\ttrain-rmse:8.20818\tvalid-rmse:6.96173\ttrain-r2:0.593215\tvalid-r2:0.655479\n",
            "[280]\ttrain-rmse:8.19102\tvalid-rmse:6.96739\ttrain-r2:0.594913\tvalid-r2:0.654918\n",
            "Stopping. Best iteration:\n",
            "[237]\ttrain-rmse:8.2909\tvalid-rmse:6.94028\ttrain-r2:0.584975\tvalid-r2:0.657598\n",
            "\n"
          ],
          "name": "stdout"
        }
      ]
    },
    {
      "metadata": {
        "id": "ecpm9B0Lhj0f",
        "colab_type": "code",
        "colab": {}
      },
      "cell_type": "code",
      "source": [
        ""
      ],
      "execution_count": 0,
      "outputs": []
    },
    {
      "metadata": {
        "id": "sYiVh0kXbNIQ",
        "colab_type": "code",
        "colab": {
          "base_uri": "https://localhost:8080/",
          "height": 51
        },
        "outputId": "d2f4dcdb-1b18-4954-a5a2-00641f327a95"
      },
      "cell_type": "code",
      "source": [
        "from sklearn.metrics import r2_score\n",
        "\n",
        "print(\"Training score: \", r2_score(clf.predict(d_train), y_train))\n",
        "print(\"Valid score: \", r2_score(clf.predict(d_valid), y_valid))"
      ],
      "execution_count": 78,
      "outputs": [
        {
          "output_type": "stream",
          "text": [
            "Training score:  0.2284065476204835\n",
            "Valid score:  0.49802579263943847\n"
          ],
          "name": "stdout"
        }
      ]
    },
    {
      "metadata": {
        "id": "SJM0axRYbaZy",
        "colab_type": "code",
        "colab": {}
      },
      "cell_type": "code",
      "source": [
        "res = pd.DataFrame()\n",
        "res['ID']= test_id\n",
        "res['y'] = clf.predict(xgb.DMatrix(test_X))"
      ],
      "execution_count": 0,
      "outputs": []
    },
    {
      "metadata": {
        "id": "eHmXhwGykRPc",
        "colab_type": "code",
        "colab": {}
      },
      "cell_type": "code",
      "source": [
        "res.to_csv('xgb.csv', index=False)"
      ],
      "execution_count": 0,
      "outputs": []
    },
    {
      "metadata": {
        "id": "Wtr4__GVkdrp",
        "colab_type": "code",
        "colab": {}
      },
      "cell_type": "code",
      "source": [
        ""
      ],
      "execution_count": 0,
      "outputs": []
    }
  ]
}