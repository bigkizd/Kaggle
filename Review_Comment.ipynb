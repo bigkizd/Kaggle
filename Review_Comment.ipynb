{
  "nbformat": 4,
  "nbformat_minor": 0,
  "metadata": {
    "colab": {
      "name": "Review_Comment.ipynb",
      "version": "0.3.2",
      "provenance": [],
      "collapsed_sections": [],
      "toc_visible": true,
      "include_colab_link": true
    },
    "kernelspec": {
      "name": "python3",
      "display_name": "Python 3"
    },
    "accelerator": "GPU"
  },
  "cells": [
    {
      "cell_type": "markdown",
      "metadata": {
        "id": "view-in-github",
        "colab_type": "text"
      },
      "source": [
        "<a href=\"https://colab.research.google.com/github/toandaominh1997/Kaggle/blob/master/Review_Comment.ipynb\" target=\"_parent\"><img src=\"https://colab.research.google.com/assets/colab-badge.svg\" alt=\"Open In Colab\"/></a>"
      ]
    },
    {
      "metadata": {
        "id": "KhbUtnMh7PL-",
        "colab_type": "code",
        "outputId": "cefa2489-53e3-49b4-e428-63f26c073210",
        "colab": {
          "base_uri": "https://localhost:8080/",
          "height": 51
        }
      },
      "cell_type": "code",
      "source": [
        "import numpy as np\n",
        "import pandas\n",
        "from sklearn.feature_extraction.text import TfidfVectorizer\n",
        "from scipy.sparse import hstack\n",
        "import pickle\n",
        "\n",
        "\n",
        "def readTxt(filename):\n",
        "  print(filename)\n",
        "  lines = []\n",
        "  with open(filename,encoding='utf-8', errors='ignore') as f:\n",
        "    lines = f.readlines()\n",
        "  \n",
        "  return lines\n",
        "\n",
        "neg = readTxt('neg_comment.txt')\n",
        "pos = readTxt('pos_comment.txt')\n",
        "\n",
        "y_neg = np.ones((len(neg), 1))\n",
        "y_pos = np.zeros((len(pos), 1))\n",
        "y_train = np.concatenate((y_neg, y_pos), axis=0)\n",
        "\n",
        "neg.extend(pos)\n",
        "all_text = neg\n",
        "del neg\n",
        "del pos\n",
        "del y_neg\n",
        "del y_pos\n",
        "def Fit_Pre(all_text):\n",
        "  word_vectorizer = TfidfVectorizer(\n",
        "      sublinear_tf=True,\n",
        "      strip_accents='unicode',\n",
        "      encoding='utf-8',\n",
        "      analyzer='word',\n",
        "      token_pattern=r'\\w{1,}',\n",
        "      stop_words='english',\n",
        "      ngram_range=(1, 1),\n",
        "      norm='l2',\n",
        "      min_df=0,\n",
        "      smooth_idf=False,\n",
        "      max_features=5000)\n",
        "  word_vectorizer.fit(all_text)\n",
        "  pickle.dump(word_vectorizer, open('word.sav', 'wb'))\n",
        "  #train_word_features = word_vectorizer.transform(train)\n",
        "  char_vectorizer = TfidfVectorizer(\n",
        "      sublinear_tf=True,\n",
        "      strip_accents='unicode',\n",
        "      analyzer='char',\n",
        "      stop_words='english',\n",
        "      ngram_range=(2, 6),\n",
        "      norm='l2',\n",
        "      min_df=0,\n",
        "      smooth_idf=False,\n",
        "      max_features=1500)\n",
        "  char_vectorizer.fit(all_text)\n",
        "  pickle.dump(char_vectorizer, open('char.sav', 'wb'))\n",
        "  #train_char_features = char_vectorizer.transform(train)\n",
        "  #train_features = hstack([train_char_features, train_word_features])\n",
        "  #return train_features\n",
        "Fit_Pre(all_text)\n",
        "def preprocessing(data):\n",
        "  word = pickle.load(open('word.sav', 'rb'))\n",
        "  char = pickle.load(open('char.sav', 'rb'))\n",
        "  word_features = word.transform(data)\n",
        "  char_features = char.transform(data)\n",
        "  features = hstack([char_features, word_features])\n",
        "  return features\n",
        "train_features = preprocessing(all_text)"
      ],
      "execution_count": 3,
      "outputs": [
        {
          "output_type": "stream",
          "text": [
            "neg_comment.txt\n",
            "pos_comment.txt\n"
          ],
          "name": "stdout"
        }
      ]
    },
    {
      "metadata": {
        "id": "tu9J3S1R9af1",
        "colab_type": "code",
        "colab": {}
      },
      "cell_type": "code",
      "source": [
        "X = train_features\n",
        "\n",
        "y = y_train\n",
        "from sklearn.model_selection import train_test_split\n",
        "\n",
        "X_train, X_val, y_train, y_val = train_test_split(X, y, test_size=0.2, random_state=42)\n"
      ],
      "execution_count": 0,
      "outputs": []
    },
    {
      "metadata": {
        "id": "8ab_1YOtGNbz",
        "colab_type": "text"
      },
      "cell_type": "markdown",
      "source": [
        "## Model Logistic Regression\n"
      ]
    },
    {
      "metadata": {
        "id": "FxBHB-UBCpBl",
        "colab_type": "code",
        "outputId": "4c07e969-675f-4152-89ae-caf2a1fa84ba",
        "colab": {
          "base_uri": "https://localhost:8080/",
          "height": 156
        }
      },
      "cell_type": "code",
      "source": [
        "from sklearn.linear_model import LogisticRegression\n",
        "from sklearn.metrics import accuracy_score\n",
        "import time\n",
        "\n",
        "def LogReg(X_train, y_train):\n",
        "  log = LogisticRegression(C=13.0)\n",
        "  log.fit(X_train, y_train)\n",
        "  return log\n",
        "\n",
        "t = time.time()\n",
        "print(\"Fitting...\")\n",
        "model_logreg = LogReg(X_train, y_train)\n",
        "print(\"Done!\")\n",
        "print(\"Time to train with LogisticRegression: \", time.time()-t)\n"
      ],
      "execution_count": 5,
      "outputs": [
        {
          "output_type": "stream",
          "text": [
            "Fitting...\n"
          ],
          "name": "stdout"
        },
        {
          "output_type": "stream",
          "text": [
            "/usr/local/lib/python3.6/dist-packages/sklearn/linear_model/logistic.py:433: FutureWarning: Default solver will be changed to 'lbfgs' in 0.22. Specify a solver to silence this warning.\n",
            "  FutureWarning)\n",
            "/usr/local/lib/python3.6/dist-packages/sklearn/utils/validation.py:761: DataConversionWarning: A column-vector y was passed when a 1d array was expected. Please change the shape of y to (n_samples, ), for example using ravel().\n",
            "  y = column_or_1d(y, warn=True)\n"
          ],
          "name": "stderr"
        },
        {
          "output_type": "stream",
          "text": [
            "Done!\n",
            "Time to train with LogisticRegression:  0.6657376289367676\n"
          ],
          "name": "stdout"
        }
      ]
    },
    {
      "metadata": {
        "id": "MYPJD_d0GAUC",
        "colab_type": "code",
        "outputId": "edcedcca-05c0-457e-afb5-18bb82488ebc",
        "colab": {
          "base_uri": "https://localhost:8080/",
          "height": 51
        }
      },
      "cell_type": "code",
      "source": [
        "pred_train_logreg = model_logreg.predict(X_train)\n",
        "print('Training accuracy is {}'.format(accuracy_score(y_train, pred_train_logreg)))\n",
        "\n",
        "pred_test_logreg = model_logreg.predict(X_val)\n",
        "print('Testing accuracy is {}'.format(accuracy_score(y_val, pred_test_logreg)))\n"
      ],
      "execution_count": 6,
      "outputs": [
        {
          "output_type": "stream",
          "text": [
            "Training accuracy is 0.9987109249113761\n",
            "Testing accuracy is 0.9800193361263294\n"
          ],
          "name": "stdout"
        }
      ]
    },
    {
      "metadata": {
        "id": "oRUZDIczGJDK",
        "colab_type": "code",
        "outputId": "d149cb6b-ff9b-4c56-8628-585d7d4c34c1",
        "colab": {
          "base_uri": "https://localhost:8080/",
          "height": 34
        }
      },
      "cell_type": "code",
      "source": [
        "data = list()\n",
        "data.append('I guess I should have realized a smaller screen wouldn’t fit our needs so it’s reslly not a fault of Amazon.')\n",
        "data_test = preprocessing(data)\n",
        "\n",
        "print(model_logreg.predict(data_test))"
      ],
      "execution_count": 7,
      "outputs": [
        {
          "output_type": "stream",
          "text": [
            "[1.]\n"
          ],
          "name": "stdout"
        }
      ]
    },
    {
      "metadata": {
        "id": "5em2UwZaOhRI",
        "colab_type": "text"
      },
      "cell_type": "markdown",
      "source": [
        "## Model 2: Support Vector Machine\n"
      ]
    },
    {
      "metadata": {
        "id": "07TpQjB3OeoR",
        "colab_type": "code",
        "outputId": "53a70d8b-4c30-4db7-b263-9a9bf2f36b02",
        "colab": {
          "base_uri": "https://localhost:8080/",
          "height": 139
        }
      },
      "cell_type": "code",
      "source": [
        "from sklearn.svm import SVC\n",
        "\n",
        "svm = SVC(C=13.0, gamma='auto')\n",
        "svm.fit(X_train, y_train)\n"
      ],
      "execution_count": 8,
      "outputs": [
        {
          "output_type": "stream",
          "text": [
            "/usr/local/lib/python3.6/dist-packages/sklearn/utils/validation.py:761: DataConversionWarning: A column-vector y was passed when a 1d array was expected. Please change the shape of y to (n_samples, ), for example using ravel().\n",
            "  y = column_or_1d(y, warn=True)\n"
          ],
          "name": "stderr"
        },
        {
          "output_type": "execute_result",
          "data": {
            "text/plain": [
              "SVC(C=13.0, cache_size=200, class_weight=None, coef0=0.0,\n",
              "  decision_function_shape='ovr', degree=3, gamma='auto', kernel='rbf',\n",
              "  max_iter=-1, probability=False, random_state=None, shrinking=True,\n",
              "  tol=0.001, verbose=False)"
            ]
          },
          "metadata": {
            "tags": []
          },
          "execution_count": 8
        }
      ]
    },
    {
      "metadata": {
        "id": "voda0ty9PMRS",
        "colab_type": "code",
        "outputId": "7dd2a974-a9f0-46b7-fbac-98f8083c1e69",
        "colab": {
          "base_uri": "https://localhost:8080/",
          "height": 51
        }
      },
      "cell_type": "code",
      "source": [
        "\n",
        "print('Training accuracy is {}'.format(accuracy_score(y_train, svm.predict(X_train))))\n",
        "\n",
        "print('Testing accuracy is {}'.format(accuracy_score(y_val, svm.predict(X_val))))"
      ],
      "execution_count": 9,
      "outputs": [
        {
          "output_type": "stream",
          "text": [
            "Training accuracy is 0.7978569126651628\n",
            "Testing accuracy is 0.8001933612632935\n"
          ],
          "name": "stdout"
        }
      ]
    },
    {
      "metadata": {
        "id": "Z9R2pQnYI1Xq",
        "colab_type": "text"
      },
      "cell_type": "markdown",
      "source": [
        "## Model: RandomForestClassifier"
      ]
    },
    {
      "metadata": {
        "id": "PDIODt7oIwpA",
        "colab_type": "code",
        "colab": {
          "base_uri": "https://localhost:8080/",
          "height": 207
        },
        "outputId": "f5068ac9-ae87-4483-b5d4-b6aae34a84ce"
      },
      "cell_type": "code",
      "source": [
        "from sklearn.ensemble import RandomForestClassifier\n",
        "\n",
        "rf = RandomForestClassifier(max_depth=None, random_state=24)\n",
        "rf.fit(X_train, y_train)"
      ],
      "execution_count": 28,
      "outputs": [
        {
          "output_type": "stream",
          "text": [
            "/usr/local/lib/python3.6/dist-packages/sklearn/ensemble/forest.py:246: FutureWarning: The default value of n_estimators will change from 10 in version 0.20 to 100 in 0.22.\n",
            "  \"10 in version 0.20 to 100 in 0.22.\", FutureWarning)\n",
            "/usr/local/lib/python3.6/dist-packages/ipykernel_launcher.py:4: DataConversionWarning: A column-vector y was passed when a 1d array was expected. Please change the shape of y to (n_samples,), for example using ravel().\n",
            "  after removing the cwd from sys.path.\n"
          ],
          "name": "stderr"
        },
        {
          "output_type": "execute_result",
          "data": {
            "text/plain": [
              "RandomForestClassifier(bootstrap=True, class_weight=None, criterion='gini',\n",
              "            max_depth=None, max_features='auto', max_leaf_nodes=None,\n",
              "            min_impurity_decrease=0.0, min_impurity_split=None,\n",
              "            min_samples_leaf=1, min_samples_split=2,\n",
              "            min_weight_fraction_leaf=0.0, n_estimators=10, n_jobs=None,\n",
              "            oob_score=False, random_state=24, verbose=0, warm_start=False)"
            ]
          },
          "metadata": {
            "tags": []
          },
          "execution_count": 28
        }
      ]
    },
    {
      "metadata": {
        "id": "ysffkfXkJJuw",
        "colab_type": "code",
        "colab": {
          "base_uri": "https://localhost:8080/",
          "height": 51
        },
        "outputId": "8d444ebb-927a-42e0-b694-9a6f6555d336"
      },
      "cell_type": "code",
      "source": [
        "\n",
        "print('Training accuracy is {}'.format(accuracy_score(y_train, rf.predict(X_train))))\n",
        "\n",
        "print('Testing accuracy is {}'.format(accuracy_score(y_val, rf.predict(X_val))))"
      ],
      "execution_count": 29,
      "outputs": [
        {
          "output_type": "stream",
          "text": [
            "Training accuracy is 0.9964550435062842\n",
            "Testing accuracy is 0.9352239767966484\n"
          ],
          "name": "stdout"
        }
      ]
    },
    {
      "metadata": {
        "id": "0pM1ipOgOe-P",
        "colab_type": "text"
      },
      "cell_type": "markdown",
      "source": [
        ""
      ]
    },
    {
      "metadata": {
        "id": "-CZgoAmCR-4Q",
        "colab_type": "text"
      },
      "cell_type": "markdown",
      "source": [
        "## Model 3: Lightgbm"
      ]
    },
    {
      "metadata": {
        "id": "ChqS8M08SB1J",
        "colab_type": "code",
        "outputId": "0be46819-5838-471c-d233-63d18ef39c5c",
        "colab": {
          "base_uri": "https://localhost:8080/",
          "height": 207
        }
      },
      "cell_type": "code",
      "source": [
        "import lightgbm as lgb\n",
        "from sklearn.model_selection import train_test_split\n",
        "from sklearn.feature_selection import SelectFromModel\n",
        "\n",
        "def LightGBM(X_train, y_train):\n",
        "  model = LogisticRegression(solver='sag')\n",
        "  sfm = SelectFromModel(model, threshold=0.2)\n",
        "\n",
        "  _y_train = np.asarray(y_train)\n",
        "  _y_train = _y_train.ravel()\n",
        "  train_sparse_matrix = sfm.fit_transform(X_train, _y_train)\n",
        "  train_sparse_matrix, valid_sparse_matrix, y_train_lgb, y_valid = train_test_split(train_sparse_matrix, _y_train, test_size=0.05, random_state=144)\n",
        "\n",
        "  d_train = lgb.Dataset(train_sparse_matrix, label=y_train_lgb)\n",
        "  d_valid = lgb.Dataset(valid_sparse_matrix, label=y_valid)\n",
        "  watchlist = [d_train, d_valid]\n",
        " \n",
        "  params = {'learning_rate': 0.2,\n",
        "              'application': 'binary',\n",
        "              'num_leaves': 31,\n",
        "              'verbosity': -1,\n",
        "              'metric': 'auc',\n",
        "              'data_random_seed': 2,\n",
        "              'bagging_fraction': 0.8,\n",
        "              'feature_fraction': 0.6,\n",
        "              'nthread': 4,\n",
        "              'lambda_l1': 1,\n",
        "              'lambda_l2': 1}\n",
        "\n",
        "  model = lgb.train(params, train_set=d_train, valid_sets=watchlist, verbose_eval=10)\n",
        "  return model\n",
        "\n",
        "#model_lgb = LightGBM(X, y)\n",
        "model_lgb = lgb.LGBMClassifier()\n",
        "model_lgb.fit(X_train, y_train)"
      ],
      "execution_count": 20,
      "outputs": [
        {
          "output_type": "stream",
          "text": [
            "/usr/local/lib/python3.6/dist-packages/sklearn/preprocessing/label.py:219: DataConversionWarning: A column-vector y was passed when a 1d array was expected. Please change the shape of y to (n_samples, ), for example using ravel().\n",
            "  y = column_or_1d(y, warn=True)\n",
            "/usr/local/lib/python3.6/dist-packages/sklearn/preprocessing/label.py:252: DataConversionWarning: A column-vector y was passed when a 1d array was expected. Please change the shape of y to (n_samples, ), for example using ravel().\n",
            "  y = column_or_1d(y, warn=True)\n"
          ],
          "name": "stderr"
        },
        {
          "output_type": "execute_result",
          "data": {
            "text/plain": [
              "LGBMClassifier(boosting_type='gbdt', class_weight=None, colsample_bytree=1.0,\n",
              "        importance_type='split', learning_rate=0.1, max_depth=-1,\n",
              "        min_child_samples=20, min_child_weight=0.001, min_split_gain=0.0,\n",
              "        n_estimators=100, n_jobs=-1, num_leaves=31, objective=None,\n",
              "        random_state=None, reg_alpha=0.0, reg_lambda=0.0, silent=True,\n",
              "        subsample=1.0, subsample_for_bin=200000, subsample_freq=0)"
            ]
          },
          "metadata": {
            "tags": []
          },
          "execution_count": 20
        }
      ]
    },
    {
      "metadata": {
        "id": "gpT0_mnRG4u1",
        "colab_type": "code",
        "colab": {
          "base_uri": "https://localhost:8080/",
          "height": 51
        },
        "outputId": "5a90ff4c-53fd-4061-bd87-4709d591c3be"
      },
      "cell_type": "code",
      "source": [
        "print('Training accuracy is {}'.format(accuracy_score(y_train, model_lgb.predict(X_train))))\n",
        "\n",
        "print('Testing accuracy is {}'.format(accuracy_score(y_val, model_lgb.predict(X_val))))"
      ],
      "execution_count": 21,
      "outputs": [
        {
          "output_type": "stream",
          "text": [
            "Training accuracy is 1.0\n",
            "Testing accuracy is 0.9800193361263294\n"
          ],
          "name": "stdout"
        }
      ]
    },
    {
      "metadata": {
        "id": "_asiz5OxREGh",
        "colab_type": "text"
      },
      "cell_type": "markdown",
      "source": [
        "## Model 4:XGboost"
      ]
    },
    {
      "metadata": {
        "id": "wjUALamRRCiR",
        "colab_type": "text"
      },
      "cell_type": "markdown",
      "source": [
        ""
      ]
    },
    {
      "metadata": {
        "id": "jAUZwP_AHnS6",
        "colab_type": "code",
        "colab": {}
      },
      "cell_type": "code",
      "source": [
        "import xgboost as xgb\n",
        "from xgboost.sklearn import XGBClassifier\n",
        "\n",
        "x_train, X_valid, y_train_xgb, y_valid = train_test_split(\n",
        "        X, y, test_size=0.2, random_state=23)\n",
        "def XGBoost(X_train, X_valid, y_train_xgb, y_valid):\n",
        "  xgb_params = {'eta': 0.3, \n",
        "              'max_depth': 5, \n",
        "              'subsample': 0.8, \n",
        "              'colsample_bytree': 0.8, \n",
        "              'objective': 'binary:logistic', \n",
        "              'eval_metric': 'auc', \n",
        "              'seed': 23\n",
        "             }\n",
        "  d_train = xgb.DMatrix(X_train, y_train_xgb)\n",
        "  d_valid = xgb.DMatrix(X_valid, y_valid)\n",
        "  watchlist = [(d_valid, 'valid')]\n",
        "  model = xgb.train(xgb_params, d_train, 200, watchlist, verbose_eval=False, early_stopping_rounds=30)\n",
        "  return model\n",
        "\n",
        "model_xgb = XGBoost(x_train, X_valid, y_train_xgb, y_valid)"
      ],
      "execution_count": 0,
      "outputs": []
    },
    {
      "metadata": {
        "id": "kYENQ6F1RIWQ",
        "colab_type": "code",
        "outputId": "5efc5c5d-cb8d-4742-f92d-8080d5df364e",
        "colab": {
          "base_uri": "https://localhost:8080/",
          "height": 51
        }
      },
      "cell_type": "code",
      "source": [
        "d_train = xgb.DMatrix(X_train)\n",
        "pred_train_xgb = model_xgb.predict(d_train)\n",
        "print('Training accuracy is {}'.format(accuracy_score(y_train, pred_train_xgb.round())))\n",
        "\n",
        "d_test = xgb.DMatrix(X_val)\n",
        "pred_test_xgb = model_xgb.predict(d_test)\n",
        "print('Testing accuracy is {}'.format(accuracy_score(y_val, pred_test_xgb.round())))"
      ],
      "execution_count": 23,
      "outputs": [
        {
          "output_type": "stream",
          "text": [
            "Training accuracy is 0.9957299387689333\n",
            "Testing accuracy is 0.9945214308733483\n"
          ],
          "name": "stdout"
        }
      ]
    },
    {
      "metadata": {
        "id": "aAz1pnHaRlZR",
        "colab_type": "code",
        "colab": {
          "base_uri": "https://localhost:8080/",
          "height": 241
        },
        "outputId": "52d56e5b-7a9c-4773-8249-173f67209fe3"
      },
      "cell_type": "code",
      "source": [
        "from sklearn.model_selection import StratifiedKFold\n",
        "class StackModel():\n",
        "  def __init__(self):\n",
        "    self.model_lr = LogisticRegression(C=13.0)\n",
        "    self.model_rf = RandomForestClassifier()\n",
        "    self.model_xgb = xgb.XGBClassifier()\n",
        "    self.model_lgb = lgb.LGBMClassifier()\n",
        "    \n",
        "  def fit(self, X_train, y_train):\n",
        "    self.model_lr.fit(X_train, y_train)\n",
        "    self.model_rf.fit(X_train, y_train)\n",
        "    self.model_xgb.fit(X_train, y_train)\n",
        "    self.model_lgb.fit(X_train, y_train)\n",
        "      \n",
        "  def predict(self, X):\n",
        "    y_pred = 0.2*self.model_lr.predict(X) + 0.2*self.model_rf.predict(X) + 0.3*self.model_xgb.predict(X) + 0.3*self.model_lgb.predict(X)\n",
        "    return np.round(y_pred)\n",
        "\n",
        "model = StackModel()\n",
        "X_train, X_val, y_train, y_val = train_test_split(X, y, test_size=0.2, random_state=24)\n",
        "model.fit(X_train, y_train)\n",
        "\n",
        "  "
      ],
      "execution_count": 34,
      "outputs": [
        {
          "output_type": "stream",
          "text": [
            "/usr/local/lib/python3.6/dist-packages/sklearn/linear_model/logistic.py:433: FutureWarning: Default solver will be changed to 'lbfgs' in 0.22. Specify a solver to silence this warning.\n",
            "  FutureWarning)\n",
            "/usr/local/lib/python3.6/dist-packages/sklearn/utils/validation.py:761: DataConversionWarning: A column-vector y was passed when a 1d array was expected. Please change the shape of y to (n_samples, ), for example using ravel().\n",
            "  y = column_or_1d(y, warn=True)\n",
            "/usr/local/lib/python3.6/dist-packages/sklearn/ensemble/forest.py:246: FutureWarning: The default value of n_estimators will change from 10 in version 0.20 to 100 in 0.22.\n",
            "  \"10 in version 0.20 to 100 in 0.22.\", FutureWarning)\n",
            "/usr/local/lib/python3.6/dist-packages/ipykernel_launcher.py:11: DataConversionWarning: A column-vector y was passed when a 1d array was expected. Please change the shape of y to (n_samples,), for example using ravel().\n",
            "  # This is added back by InteractiveShellApp.init_path()\n",
            "/usr/local/lib/python3.6/dist-packages/sklearn/preprocessing/label.py:219: DataConversionWarning: A column-vector y was passed when a 1d array was expected. Please change the shape of y to (n_samples, ), for example using ravel().\n",
            "  y = column_or_1d(y, warn=True)\n",
            "/usr/local/lib/python3.6/dist-packages/sklearn/preprocessing/label.py:252: DataConversionWarning: A column-vector y was passed when a 1d array was expected. Please change the shape of y to (n_samples, ), for example using ravel().\n",
            "  y = column_or_1d(y, warn=True)\n"
          ],
          "name": "stderr"
        }
      ]
    },
    {
      "metadata": {
        "id": "9VAxO72kQu4y",
        "colab_type": "code",
        "colab": {
          "base_uri": "https://localhost:8080/",
          "height": 51
        },
        "outputId": "bafa4cc5-871b-4013-97ca-e91c4fc9feff"
      },
      "cell_type": "code",
      "source": [
        "print('Training accuracy is {}'.format(accuracy_score(y_train, model.predict(X_train))))\n",
        "print('Testing accuracy is {}'.format(accuracy_score(y_val, model.predict(X_val))))"
      ],
      "execution_count": 35,
      "outputs": [
        {
          "output_type": "stream",
          "text": [
            "Training accuracy is 0.9986303577183371\n",
            "Testing accuracy is 0.97035127296165\n"
          ],
          "name": "stdout"
        }
      ]
    },
    {
      "metadata": {
        "id": "R5n27pt-RKC6",
        "colab_type": "code",
        "colab": {}
      },
      "cell_type": "code",
      "source": [
        ""
      ],
      "execution_count": 0,
      "outputs": []
    }
  ]
}