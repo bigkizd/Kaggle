{
  "nbformat": 4,
  "nbformat_minor": 0,
  "metadata": {
    "colab": {
      "name": " House Prices: Advanced Regression Techniques.ipynb",
      "version": "0.3.2",
      "provenance": [],
      "include_colab_link": true
    },
    "kernelspec": {
      "name": "python3",
      "display_name": "Python 3"
    },
    "accelerator": "GPU"
  },
  "cells": [
    {
      "cell_type": "markdown",
      "metadata": {
        "id": "view-in-github",
        "colab_type": "text"
      },
      "source": [
        "<a href=\"https://colab.research.google.com/github/toandaominh1997/Kaggle/blob/master/%20House%20Prices:%20Advanced%20Regression%20Techniques/House_Prices_Advanced_Regression_Techniques.ipynb\" target=\"_parent\"><img src=\"https://colab.research.google.com/assets/colab-badge.svg\" alt=\"Open In Colab\"/></a>"
      ]
    },
    {
      "metadata": {
        "id": "CevyAS1PfVxX",
        "colab_type": "code",
        "colab": {
          "base_uri": "https://localhost:8080/",
          "height": 34
        },
        "outputId": "9bc2e89c-d88b-4676-d8bf-425d258994d5"
      },
      "cell_type": "code",
      "source": [
        "from google.colab import drive\n",
        "drive.mount('/content/drive/')"
      ],
      "execution_count": 1,
      "outputs": [
        {
          "output_type": "stream",
          "text": [
            "Drive already mounted at /content/drive/; to attempt to forcibly remount, call drive.mount(\"/content/drive/\", force_remount=True).\n"
          ],
          "name": "stdout"
        }
      ]
    },
    {
      "metadata": {
        "id": "VYT1CycifZMp",
        "colab_type": "code",
        "colab": {
          "base_uri": "https://localhost:8080/",
          "height": 51
        },
        "outputId": "a74af6f3-ebbf-43df-913f-90a372d18597"
      },
      "cell_type": "code",
      "source": [
        "import pandas as pd\n",
        "import numpy as np\n",
        "import os\n",
        "\n",
        "path_train = 'drive/My Drive/Datasets/House Prices: Advanced Regression Techniques/train.csv'\n",
        "path_test = 'drive/My Drive/Datasets/House Prices: Advanced Regression Techniques/test.csv'\n",
        "train=pd.read_csv(path_train)\n",
        "test=pd.read_csv(path_test)\n",
        "zeros = np.zeros((test.shape[0], 1))\n",
        "test['SalePrice'] = zeros\n",
        "df = pd.concat([train, test], axis=0)\n",
        "\n",
        "miss_df = df.isnull().sum().sort_values(ascending=False)\n",
        "\n",
        "df = df.drop(columns = (miss_df[miss_df>=1]).index, axis=1)\n",
        "for col in df.columns:\n",
        "    if(df[col].dtypes=='object'):\n",
        "      df = pd.get_dummies(df, columns=[col], prefix=[col])\n",
        "\n",
        "      "
      ],
      "execution_count": 24,
      "outputs": [
        {
          "output_type": "stream",
          "text": [
            "(2919, 81)\n",
            "(2919, 151)\n"
          ],
          "name": "stdout"
        }
      ]
    },
    {
      "metadata": {
        "id": "V3Yp_Yz5gg1O",
        "colab_type": "code",
        "colab": {
          "base_uri": "https://localhost:8080/",
          "height": 68
        },
        "outputId": "b1751978-8b04-49ae-96ee-733c6b63587b"
      },
      "cell_type": "code",
      "source": [
        "from sklearn.linear_model import SGDRegressor\n",
        "from sklearn import svm\n",
        "from sklearn import linear_model\n",
        "from sklearn.linear_model import ElasticNet\n",
        "X_train = df.iloc[:train.shape[0], :]\n",
        "y_train = df.iloc[:train.shape[0], -1:]\n",
        "X_test = df.iloc[train.shape[0]:, :]\n",
        "\n",
        "rr = ElasticNet()\n",
        "\n",
        "rr.fit(X_train, y_train)"
      ],
      "execution_count": 40,
      "outputs": [
        {
          "output_type": "execute_result",
          "data": {
            "text/plain": [
              "ElasticNet(alpha=1.0, copy_X=True, fit_intercept=True, l1_ratio=0.5,\n",
              "      max_iter=1000, normalize=False, positive=False, precompute=False,\n",
              "      random_state=None, selection='cyclic', tol=0.0001, warm_start=False)"
            ]
          },
          "metadata": {
            "tags": []
          },
          "execution_count": 40
        }
      ]
    },
    {
      "metadata": {
        "id": "plX--xFvgeOB",
        "colab_type": "code",
        "colab": {}
      },
      "cell_type": "code",
      "source": [
        "submit = pd.DataFrame()\n",
        "submit['Id'] = test['Id']\n",
        "submit['SalePrice'] = rr.predict(X_test)\n",
        "submit.to_csv('submit.csv', index=False)"
      ],
      "execution_count": 0,
      "outputs": []
    },
    {
      "metadata": {
        "id": "VAqAh9wouDFm",
        "colab_type": "code",
        "colab": {}
      },
      "cell_type": "code",
      "source": [
        ""
      ],
      "execution_count": 0,
      "outputs": []
    }
  ]
}