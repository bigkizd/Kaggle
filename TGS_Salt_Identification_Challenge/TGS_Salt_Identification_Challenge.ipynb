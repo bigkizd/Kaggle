{
  "nbformat": 4,
  "nbformat_minor": 0,
  "metadata": {
    "colab": {
      "name": "TGS Salt Identification Challenge.ipynb",
      "version": "0.3.2",
      "provenance": [],
      "collapsed_sections": [],
      "include_colab_link": true
    },
    "kernelspec": {
      "name": "python3",
      "display_name": "Python 3"
    },
    "accelerator": "GPU"
  },
  "cells": [
    {
      "cell_type": "markdown",
      "metadata": {
        "id": "view-in-github",
        "colab_type": "text"
      },
      "source": [
        "<a href=\"https://colab.research.google.com/github/toandaominh1997/Kaggle/blob/master/TGS_Salt_Identification_Challenge/TGS_Salt_Identification_Challenge.ipynb\" target=\"_parent\"><img src=\"https://colab.research.google.com/assets/colab-badge.svg\" alt=\"Open In Colab\"/></a>"
      ]
    },
    {
      "metadata": {
        "id": "-n6rnRT-jlva",
        "colab_type": "code",
        "colab": {}
      },
      "cell_type": "code",
      "source": [
        ""
      ],
      "execution_count": 0,
      "outputs": []
    },
    {
      "metadata": {
        "id": "n4OsIvOOiaQB",
        "colab_type": "code",
        "outputId": "4b502daf-cb31-4c35-8e81-0e09cf70dcd0",
        "colab": {
          "base_uri": "https://localhost:8080/",
          "height": 34
        }
      },
      "cell_type": "code",
      "source": [
        "import os\n",
        "import sys\n",
        "import random\n",
        "\n",
        "import pandas as pd\n",
        "import numpy as np\n",
        "import matplotlib.pyplot as plt\n",
        "plt.style.use('seaborn-white')\n",
        "import seaborn as sns\n",
        "sns.set_style(\"white\")\n",
        "\n",
        "%matplotlib inline\n",
        "\n",
        "# import cv2\n",
        "from sklearn.model_selection import train_test_split\n",
        "\n",
        "from tqdm import trange #, tnrange\n",
        "#from itertools import chain\n",
        "from skimage.io import imread, imshow #, concatenate_images\n",
        "from skimage.transform import resize\n",
        "from skimage.morphology import label\n",
        "\n",
        "from keras.models import Model, load_model, save_model\n",
        "from keras.layers import Input,Dropout,BatchNormalization,Activation,Add\n",
        "from keras.layers.core import Lambda\n",
        "from keras.layers.convolutional import Conv2D, Conv2DTranspose\n",
        "from keras.layers.pooling import MaxPooling2D\n",
        "from keras.layers.merge import concatenate\n",
        "from keras.callbacks import EarlyStopping, ModelCheckpoint, ReduceLROnPlateau\n",
        "from keras import backend as K\n",
        "from keras import optimizers\n",
        "\n",
        "import tensorflow as tf\n",
        "\n",
        "from keras.preprocessing.image import array_to_img, img_to_array, load_img#,save_img\n",
        "\n",
        "import time\n",
        "t_start = time.time()"
      ],
      "execution_count": 0,
      "outputs": [
        {
          "output_type": "stream",
          "text": [
            "Using TensorFlow backend.\n"
          ],
          "name": "stderr"
        }
      ]
    },
    {
      "metadata": {
        "id": "wDTdCo0Pjumq",
        "colab_type": "code",
        "outputId": "eef66b05-45a5-47a3-bb81-e1a513af763d",
        "colab": {
          "base_uri": "https://localhost:8080/",
          "height": 51
        }
      },
      "cell_type": "code",
      "source": [
        "version = 5\n",
        "basic_name = f'Unet_resnet_v{version}'\n",
        "save_model_name = basic_name + '.model'\n",
        "submission_file = basic_name + '.csv'\n",
        "\n",
        "print(save_model_name)\n",
        "print(submission_file)"
      ],
      "execution_count": 0,
      "outputs": [
        {
          "output_type": "stream",
          "text": [
            "Unet_resnet_v5.model\n",
            "Unet_resnet_v5.csv\n"
          ],
          "name": "stdout"
        }
      ]
    },
    {
      "metadata": {
        "id": "jwGXN18XjyQp",
        "colab_type": "code",
        "colab": {}
      },
      "cell_type": "code",
      "source": [
        "img_size_ori = 101\n",
        "img_size_target = 101\n",
        "\n",
        "def upsample(img):# not used\n",
        "    if img_size_ori == img_size_target:\n",
        "        return img\n",
        "    return resize(img, (img_size_target, img_size_target), mode='constant', preserve_range=True)\n",
        "    \n",
        "def downsample(img):# not used\n",
        "    if img_size_ori == img_size_target:\n",
        "        return img\n",
        "    return resize(img, (img_size_ori, img_size_ori), mode='constant', preserve_range=True)"
      ],
      "execution_count": 0,
      "outputs": []
    },
    {
      "metadata": {
        "id": "RXjZzVooj6kg",
        "colab_type": "code",
        "outputId": "7296ef62-e7a4-4814-e0e7-abf67526d87c",
        "colab": {
          "base_uri": "https://localhost:8080/",
          "height": 54
        }
      },
      "cell_type": "code",
      "source": [
        "from google.colab import drive\n",
        "drive.mount('/content/drive')"
      ],
      "execution_count": 0,
      "outputs": [
        {
          "output_type": "stream",
          "text": [
            "Drive already mounted at /content/drive; to attempt to forcibly remount, call drive.mount(\"/content/drive\", force_remount=True).\n"
          ],
          "name": "stdout"
        }
      ]
    },
    {
      "metadata": {
        "id": "ahFZWTRBj3kX",
        "colab_type": "code",
        "outputId": "407c632b-9172-4b2d-e115-2d220edd7b50",
        "colab": {
          "base_uri": "https://localhost:8080/",
          "height": 34
        }
      },
      "cell_type": "code",
      "source": [
        "\n",
        "data_dir= 'drive/My Drive/Dataset/TGS Salt Identification Challenge/'\n",
        "# Loading of training/testing ids and depths\n",
        "train_df = pd.read_csv(data_dir+\"train.csv\", index_col=\"id\", usecols=[0])\n",
        "depths_df = pd.read_csv(data_dir+\"depths.csv\", index_col=\"id\")\n",
        "train_df = train_df.join(depths_df)\n",
        "test_df = depths_df[~depths_df.index.isin(train_df.index)]\n",
        "\n",
        "len(train_df)"
      ],
      "execution_count": 0,
      "outputs": [
        {
          "output_type": "execute_result",
          "data": {
            "text/plain": [
              "4000"
            ]
          },
          "metadata": {
            "tags": []
          },
          "execution_count": 5
        }
      ]
    },
    {
      "metadata": {
        "id": "vt5h5xFj9TIx",
        "colab_type": "code",
        "outputId": "e6438063-312d-48aa-da0e-d6b97ac81715",
        "colab": {
          "base_uri": "https://localhost:8080/",
          "height": 34
        }
      },
      "cell_type": "code",
      "source": [
        "!pip install tqdm\n",
        "from tqdm import tqdm"
      ],
      "execution_count": 0,
      "outputs": [
        {
          "output_type": "stream",
          "text": [
            "Requirement already satisfied: tqdm in /usr/local/lib/python3.6/dist-packages (4.28.1)\n"
          ],
          "name": "stdout"
        }
      ]
    },
    {
      "metadata": {
        "id": "q-oteZqfkGMK",
        "colab_type": "code",
        "outputId": "474f377b-4222-4b07-f7bc-e56c476814f3",
        "colab": {
          "base_uri": "https://localhost:8080/",
          "height": 34
        }
      },
      "cell_type": "code",
      "source": [
        "train_df[\"images\"] = [np.array(load_img(data_dir+\"train/images/{}.png\".format(idx), grayscale=True)) / 255 for idx in tqdm(train_df.index)]"
      ],
      "execution_count": 0,
      "outputs": [
        {
          "output_type": "stream",
          "text": [
            "100%|██████████| 4000/4000 [18:46<00:00,  3.51it/s]\n"
          ],
          "name": "stderr"
        }
      ]
    },
    {
      "metadata": {
        "id": "rIVwte5Cj3np",
        "colab_type": "code",
        "outputId": "ca53c614-765a-49ac-e756-0e6415785f6c",
        "colab": {
          "base_uri": "https://localhost:8080/",
          "height": 34
        }
      },
      "cell_type": "code",
      "source": [
        "train_df[\"masks\"] = [np.array(load_img(data_dir+\"train/masks/{}.png\".format(idx), grayscale=True)) / 255 for idx in tqdm(train_df.index)]"
      ],
      "execution_count": 0,
      "outputs": [
        {
          "output_type": "stream",
          "text": [
            "100%|██████████| 4000/4000 [22:07<00:00,  3.49it/s]\n"
          ],
          "name": "stderr"
        }
      ]
    },
    {
      "metadata": {
        "id": "CnJ2XDKGj3qh",
        "colab_type": "code",
        "colab": {}
      },
      "cell_type": "code",
      "source": [
        "train_df[\"coverage\"] = train_df.masks.map(np.sum) / pow(img_size_ori, 2)\n",
        "\n",
        "def cov_to_class(val):    \n",
        "    for i in range(0, 11):\n",
        "        if val * 10 <= i :\n",
        "            return i\n",
        "        \n",
        "train_df[\"coverage_class\"] = train_df.coverage.map(cov_to_class)"
      ],
      "execution_count": 0,
      "outputs": []
    },
    {
      "metadata": {
        "id": "YNSUXBLMj3tw",
        "colab_type": "code",
        "outputId": "17d5351d-89c8-4910-a9fd-a639bf5e7f49",
        "colab": {
          "base_uri": "https://localhost:8080/",
          "height": 387
        }
      },
      "cell_type": "code",
      "source": [
        "fig, axs = plt.subplots(1, 2, figsize=(15,5))\n",
        "sns.distplot(train_df.coverage, kde=False, ax=axs[0])\n",
        "sns.distplot(train_df.coverage_class, bins=10, kde=False, ax=axs[1])\n",
        "plt.suptitle(\"Salt coverage\")\n",
        "axs[0].set_xlabel(\"Coverage\")\n",
        "axs[1].set_xlabel(\"Coverage class\")"
      ],
      "execution_count": 0,
      "outputs": [
        {
          "output_type": "execute_result",
          "data": {
            "text/plain": [
              "Text(0.5,0,'Coverage class')"
            ]
          },
          "metadata": {
            "tags": []
          },
          "execution_count": 12
        },
        {
          "output_type": "display_data",
          "data": {
            "image/png": "[encoded data removed]",
            "text/plain": [
              "<matplotlib.figure.Figure at 0x7f0557d02198>"
            ]
          },
          "metadata": {
            "tags": []
          }
        }
      ]
    },
    {
      "metadata": {
        "id": "FySukg5fkRXA",
        "colab_type": "code",
        "outputId": "03e438b7-ae65-4171-a642-b9547c9b298b",
        "colab": {
          "base_uri": "https://localhost:8080/",
          "height": 311
        }
      },
      "cell_type": "code",
      "source": [
        "sns.distplot(train_df.z, label=\"Train\")\n",
        "sns.distplot(test_df.z, label=\"Test\")\n",
        "plt.legend()\n",
        "plt.title(\"Depth distribution\")\n"
      ],
      "execution_count": 0,
      "outputs": [
        {
          "output_type": "execute_result",
          "data": {
            "text/plain": [
              "Text(0.5,1,'Depth distribution')"
            ]
          },
          "metadata": {
            "tags": []
          },
          "execution_count": 13
        },
        {
          "output_type": "display_data",
          "data": {
            "image/png": "[encoded data removed]",
            "text/plain": [
              "<matplotlib.figure.Figure at 0x7f0557d95320>"
            ]
          },
          "metadata": {
            "tags": []
          }
        }
      ]
    },
    {
      "metadata": {
        "id": "nXNIMReikRZw",
        "colab_type": "code",
        "colab": {}
      },
      "cell_type": "code",
      "source": [
        "ids_train, ids_valid, x_train, x_valid, y_train, y_valid, cov_train, cov_test, depth_train, depth_test = train_test_split(\n",
        "    train_df.index.values,\n",
        "    np.array(train_df.images.map(upsample).tolist()).reshape(-1, img_size_target, img_size_target, 1), \n",
        "    np.array(train_df.masks.map(upsample).tolist()).reshape(-1, img_size_target, img_size_target, 1), \n",
        "    train_df.coverage.values,\n",
        "    train_df.z.values,\n",
        "    test_size=0.2, stratify=train_df.coverage_class, random_state= 1234)"
      ],
      "execution_count": 0,
      "outputs": []
    },
    {
      "metadata": {
        "id": "ChW4M_dykRce",
        "colab_type": "code",
        "colab": {}
      },
      "cell_type": "code",
      "source": [
        "def BatchActivate(x):\n",
        "    x = BatchNormalization()(x)\n",
        "    x = Activation('relu')(x)\n",
        "    return x\n",
        "\n",
        "def convolution_block(x, filters, size, strides=(1,1), padding='same', activation=True):\n",
        "    x = Conv2D(filters, size, strides=strides, padding=padding)(x)\n",
        "    if activation == True:\n",
        "        x = BatchActivate(x)\n",
        "    return x\n",
        "\n",
        "def residual_block(blockInput, num_filters=16, batch_activate = False):\n",
        "    x = BatchActivate(blockInput)\n",
        "    x = convolution_block(x, num_filters, (3,3) )\n",
        "    x = convolution_block(x, num_filters, (3,3), activation=False)\n",
        "    x = Add()([x, blockInput])\n",
        "    if batch_activate:\n",
        "        x = BatchActivate(x)\n",
        "    return x"
      ],
      "execution_count": 0,
      "outputs": []
    },
    {
      "metadata": {
        "id": "ZvTEXaV6kRf3",
        "colab_type": "code",
        "colab": {}
      },
      "cell_type": "code",
      "source": [
        "# Build model\n",
        "def build_model(input_layer, start_neurons, DropoutRatio = 0.5):\n",
        "    # 101 -> 50\n",
        "    conv1 = Conv2D(start_neurons * 1, (3, 3), activation=None, padding=\"same\")(input_layer)\n",
        "    conv1 = residual_block(conv1,start_neurons * 1)\n",
        "    conv1 = residual_block(conv1,start_neurons * 1, True)\n",
        "    pool1 = MaxPooling2D((2, 2))(conv1)\n",
        "    pool1 = Dropout(DropoutRatio/2)(pool1)\n",
        "\n",
        "    # 50 -> 25\n",
        "    conv2 = Conv2D(start_neurons * 2, (3, 3), activation=None, padding=\"same\")(pool1)\n",
        "    conv2 = residual_block(conv2,start_neurons * 2)\n",
        "    conv2 = residual_block(conv2,start_neurons * 2, True)\n",
        "    pool2 = MaxPooling2D((2, 2))(conv2)\n",
        "    pool2 = Dropout(DropoutRatio)(pool2)\n",
        "\n",
        "    # 25 -> 12\n",
        "    conv3 = Conv2D(start_neurons * 4, (3, 3), activation=None, padding=\"same\")(pool2)\n",
        "    conv3 = residual_block(conv3,start_neurons * 4)\n",
        "    conv3 = residual_block(conv3,start_neurons * 4, True)\n",
        "    pool3 = MaxPooling2D((2, 2))(conv3)\n",
        "    pool3 = Dropout(DropoutRatio)(pool3)\n",
        "\n",
        "    # 12 -> 6\n",
        "    conv4 = Conv2D(start_neurons * 8, (3, 3), activation=None, padding=\"same\")(pool3)\n",
        "    conv4 = residual_block(conv4,start_neurons * 8)\n",
        "    conv4 = residual_block(conv4,start_neurons * 8, True)\n",
        "    pool4 = MaxPooling2D((2, 2))(conv4)\n",
        "    pool4 = Dropout(DropoutRatio)(pool4)\n",
        "\n",
        "    # Middle\n",
        "    convm = Conv2D(start_neurons * 16, (3, 3), activation=None, padding=\"same\")(pool4)\n",
        "    convm = residual_block(convm,start_neurons * 16)\n",
        "    convm = residual_block(convm,start_neurons * 16, True)\n",
        "    \n",
        "    # 6 -> 12\n",
        "    deconv4 = Conv2DTranspose(start_neurons * 8, (3, 3), strides=(2, 2), padding=\"same\")(convm)\n",
        "    uconv4 = concatenate([deconv4, conv4])\n",
        "    uconv4 = Dropout(DropoutRatio)(uconv4)\n",
        "    \n",
        "    uconv4 = Conv2D(start_neurons * 8, (3, 3), activation=None, padding=\"same\")(uconv4)\n",
        "    uconv4 = residual_block(uconv4,start_neurons * 8)\n",
        "    uconv4 = residual_block(uconv4,start_neurons * 8, True)\n",
        "    \n",
        "    # 12 -> 25\n",
        "    #deconv3 = Conv2DTranspose(start_neurons * 4, (3, 3), strides=(2, 2), padding=\"same\")(uconv4)\n",
        "    deconv3 = Conv2DTranspose(start_neurons * 4, (3, 3), strides=(2, 2), padding=\"valid\")(uconv4)\n",
        "    uconv3 = concatenate([deconv3, conv3])    \n",
        "    uconv3 = Dropout(DropoutRatio)(uconv3)\n",
        "    \n",
        "    uconv3 = Conv2D(start_neurons * 4, (3, 3), activation=None, padding=\"same\")(uconv3)\n",
        "    uconv3 = residual_block(uconv3,start_neurons * 4)\n",
        "    uconv3 = residual_block(uconv3,start_neurons * 4, True)\n",
        "\n",
        "    # 25 -> 50\n",
        "    deconv2 = Conv2DTranspose(start_neurons * 2, (3, 3), strides=(2, 2), padding=\"same\")(uconv3)\n",
        "    uconv2 = concatenate([deconv2, conv2])\n",
        "        \n",
        "    uconv2 = Dropout(DropoutRatio)(uconv2)\n",
        "    uconv2 = Conv2D(start_neurons * 2, (3, 3), activation=None, padding=\"same\")(uconv2)\n",
        "    uconv2 = residual_block(uconv2,start_neurons * 2)\n",
        "    uconv2 = residual_block(uconv2,start_neurons * 2, True)\n",
        "    \n",
        "    # 50 -> 101\n",
        "    #deconv1 = Conv2DTranspose(start_neurons * 1, (3, 3), strides=(2, 2), padding=\"same\")(uconv2)\n",
        "    deconv1 = Conv2DTranspose(start_neurons * 1, (3, 3), strides=(2, 2), padding=\"valid\")(uconv2)\n",
        "    uconv1 = concatenate([deconv1, conv1])\n",
        "    \n",
        "    uconv1 = Dropout(DropoutRatio)(uconv1)\n",
        "    uconv1 = Conv2D(start_neurons * 1, (3, 3), activation=None, padding=\"same\")(uconv1)\n",
        "    uconv1 = residual_block(uconv1,start_neurons * 1)\n",
        "    uconv1 = residual_block(uconv1,start_neurons * 1, True)\n",
        "    \n",
        "    #uconv1 = Dropout(DropoutRatio/2)(uconv1)\n",
        "    #output_layer = Conv2D(1, (1,1), padding=\"same\", activation=\"sigmoid\")(uconv1)\n",
        "    output_layer_noActi = Conv2D(1, (1,1), padding=\"same\", activation=None)(uconv1)\n",
        "    output_layer =  Activation('sigmoid')(output_layer_noActi)\n",
        "    \n",
        "    return output_layer"
      ],
      "execution_count": 0,
      "outputs": []
    },
    {
      "metadata": {
        "id": "pdMsvIxAIITw",
        "colab_type": "code",
        "colab": {}
      },
      "cell_type": "code",
      "source": [
        "def get_iou_vector(A, B):\n",
        "    batch_size = A.shape[0]\n",
        "    metric = []\n",
        "    for batch in range(batch_size):\n",
        "        t, p = A[batch]>0, B[batch]>0\n",
        "#         if np.count_nonzero(t) == 0 and np.count_nonzero(p) > 0:\n",
        "#             metric.append(0)\n",
        "#             continue\n",
        "#         if np.count_nonzero(t) >= 1 and np.count_nonzero(p) == 0:\n",
        "#             metric.append(0)\n",
        "#             continue\n",
        "#         if np.count_nonzero(t) == 0 and np.count_nonzero(p) == 0:\n",
        "#             metric.append(1)\n",
        "#             continue\n",
        "        \n",
        "        intersection = np.logical_and(t, p)\n",
        "        union = np.logical_or(t, p)\n",
        "        iou = (np.sum(intersection > 0) + 1e-10 )/ (np.sum(union > 0) + 1e-10)\n",
        "        thresholds = np.arange(0.5, 1, 0.05)\n",
        "        s = []\n",
        "        for thresh in thresholds:\n",
        "            s.append(iou > thresh)\n",
        "        metric.append(np.mean(s))\n",
        "\n",
        "    return np.mean(metric)\n",
        "\n",
        "def my_iou_metric(label, pred):\n",
        "    return tf.py_func(get_iou_vector, [label, pred>0.5], tf.float64)\n",
        "\n",
        "def my_iou_metric_2(label, pred):\n",
        "    return tf.py_func(get_iou_vector, [label, pred >0], tf.float64)"
      ],
      "execution_count": 0,
      "outputs": []
    },
    {
      "metadata": {
        "id": "ISjIf2HwIKq5",
        "colab_type": "code",
        "colab": {}
      },
      "cell_type": "code",
      "source": [
        "# code download from: https://github.com/bermanmaxim/LovaszSoftmax\n",
        "def lovasz_grad(gt_sorted):\n",
        "    \"\"\"\n",
        "    Computes gradient of the Lovasz extension w.r.t sorted errors\n",
        "    See Alg. 1 in paper\n",
        "    \"\"\"\n",
        "    gts = tf.reduce_sum(gt_sorted)\n",
        "    intersection = gts - tf.cumsum(gt_sorted)\n",
        "    union = gts + tf.cumsum(1. - gt_sorted)\n",
        "    jaccard = 1. - intersection / union\n",
        "    jaccard = tf.concat((jaccard[0:1], jaccard[1:] - jaccard[:-1]), 0)\n",
        "    return jaccard\n",
        "\n",
        "\n",
        "# --------------------------- BINARY LOSSES ---------------------------\n",
        "\n",
        "def lovasz_hinge(logits, labels, per_image=True, ignore=None):\n",
        "    \"\"\"\n",
        "    Binary Lovasz hinge loss\n",
        "      logits: [B, H, W] Variable, logits at each pixel (between -\\infty and +\\infty)\n",
        "      labels: [B, H, W] Tensor, binary ground truth masks (0 or 1)\n",
        "      per_image: compute the loss per image instead of per batch\n",
        "      ignore: void class id\n",
        "    \"\"\"\n",
        "    if per_image:\n",
        "        def treat_image(log_lab):\n",
        "            log, lab = log_lab\n",
        "            log, lab = tf.expand_dims(log, 0), tf.expand_dims(lab, 0)\n",
        "            log, lab = flatten_binary_scores(log, lab, ignore)\n",
        "            return lovasz_hinge_flat(log, lab)\n",
        "        losses = tf.map_fn(treat_image, (logits, labels), dtype=tf.float32)\n",
        "        loss = tf.reduce_mean(losses)\n",
        "    else:\n",
        "        loss = lovasz_hinge_flat(*flatten_binary_scores(logits, labels, ignore))\n",
        "    return loss\n",
        "\n",
        "\n",
        "def lovasz_hinge_flat(logits, labels):\n",
        "    \"\"\"\n",
        "    Binary Lovasz hinge loss\n",
        "      logits: [P] Variable, logits at each prediction (between -\\infty and +\\infty)\n",
        "      labels: [P] Tensor, binary ground truth labels (0 or 1)\n",
        "      ignore: label to ignore\n",
        "    \"\"\"\n",
        "\n",
        "    def compute_loss():\n",
        "        labelsf = tf.cast(labels, logits.dtype)\n",
        "        signs = 2. * labelsf - 1.\n",
        "        errors = 1. - logits * tf.stop_gradient(signs)\n",
        "        errors_sorted, perm = tf.nn.top_k(errors, k=tf.shape(errors)[0], name=\"descending_sort\")\n",
        "        gt_sorted = tf.gather(labelsf, perm)\n",
        "        grad = lovasz_grad(gt_sorted)\n",
        "        loss = tf.tensordot(tf.nn.relu(errors_sorted), tf.stop_gradient(grad), 1, name=\"loss_non_void\")\n",
        "        return loss\n",
        "\n",
        "    # deal with the void prediction case (only void pixels)\n",
        "    loss = tf.cond(tf.equal(tf.shape(logits)[0], 0),\n",
        "                   lambda: tf.reduce_sum(logits) * 0.,\n",
        "                   compute_loss,\n",
        "                   strict=True,\n",
        "                   name=\"loss\"\n",
        "                   )\n",
        "    return loss\n",
        "\n",
        "\n",
        "def flatten_binary_scores(scores, labels, ignore=None):\n",
        "    \"\"\"\n",
        "    Flattens predictions in the batch (binary case)\n",
        "    Remove labels equal to 'ignore'\n",
        "    \"\"\"\n",
        "    scores = tf.reshape(scores, (-1,))\n",
        "    labels = tf.reshape(labels, (-1,))\n",
        "    if ignore is None:\n",
        "        return scores, labels\n",
        "    valid = tf.not_equal(labels, ignore)\n",
        "    vscores = tf.boolean_mask(scores, valid, name='valid_scores')\n",
        "    vlabels = tf.boolean_mask(labels, valid, name='valid_labels')\n",
        "    return vscores, vlabels\n",
        "\n",
        "def lovasz_loss(y_true, y_pred):\n",
        "    y_true, y_pred = K.cast(K.squeeze(y_true, -1), 'int32'), K.cast(K.squeeze(y_pred, -1), 'float32')\n",
        "    #logits = K.log(y_pred / (1. - y_pred))\n",
        "    logits = y_pred #Jiaxin\n",
        "    loss = lovasz_hinge(logits, y_true, per_image = True, ignore = None)\n",
        "    return loss"
      ],
      "execution_count": 0,
      "outputs": []
    },
    {
      "metadata": {
        "id": "hW31A4QiIQ7q",
        "colab_type": "code",
        "outputId": "6d915233-1280-44c2-9385-4aabe8c33452",
        "colab": {
          "base_uri": "https://localhost:8080/",
          "height": 51
        }
      },
      "cell_type": "code",
      "source": [
        "#Data augmentation\n",
        "x_train = np.append(x_train, [np.fliplr(x) for x in x_train], axis=0)\n",
        "y_train = np.append(y_train, [np.fliplr(x) for x in y_train], axis=0)\n",
        "print(x_train.shape)\n",
        "print(y_valid.shape)"
      ],
      "execution_count": 0,
      "outputs": [
        {
          "output_type": "stream",
          "text": [
            "(6400, 101, 101, 1)\n",
            "(800, 101, 101, 1)\n"
          ],
          "name": "stdout"
        }
      ]
    },
    {
      "metadata": {
        "id": "pXiEbDRAITUV",
        "colab_type": "code",
        "colab": {}
      },
      "cell_type": "code",
      "source": [
        "# model\n",
        "input_layer = Input((img_size_target, img_size_target, 1))\n",
        "output_layer = build_model(input_layer, 16,0.5)\n",
        "\n",
        "model1 = Model(input_layer, output_layer)\n",
        "\n",
        "c = optimizers.adam(lr = 0.01)\n",
        "model1.compile(loss=\"binary_crossentropy\", optimizer=c, metrics=[my_iou_metric])\n",
        "\n",
        "#model1.summary()"
      ],
      "execution_count": 0,
      "outputs": []
    },
    {
      "metadata": {
        "id": "70ccLHGaIWfA",
        "colab_type": "code",
        "outputId": "3f56ded9-e890-4fee-e8d3-408e533cff59",
        "colab": {
          "base_uri": "https://localhost:8080/",
          "height": 3468
        }
      },
      "cell_type": "code",
      "source": [
        "#early_stopping = EarlyStopping(monitor='my_iou_metric', mode = 'max',patience=10, verbose=1)\n",
        "model_checkpoint = ModelCheckpoint(save_model_name,monitor='my_iou_metric', \n",
        "                                   mode = 'max', save_best_only=True, verbose=1)\n",
        "reduce_lr = ReduceLROnPlateau(monitor='my_iou_metric', mode = 'max',factor=0.5, patience=5, min_lr=0.0001, verbose=1)\n",
        "\n",
        "epochs = 50\n",
        "batch_size = 32\n",
        "history = model1.fit(x_train, y_train,\n",
        "                    validation_data=[x_valid, y_valid], \n",
        "                    epochs=epochs,\n",
        "                    batch_size=batch_size,\n",
        "                    callbacks=[ model_checkpoint,reduce_lr], \n",
        "                    verbose=2)"
      ],
      "execution_count": 0,
      "outputs": [
        {
          "output_type": "stream",
          "text": [
            "Train on 6400 samples, validate on 800 samples\n",
            "Epoch 1/50\n",
            " - 99s - loss: 0.4026 - my_iou_metric: 0.3916 - val_loss: 2.0329 - val_my_iou_metric: 0.3762\n",
            "\n",
            "Epoch 00001: my_iou_metric improved from -inf to 0.39159, saving model to Unet_resnet_v5.model\n",
            "Epoch 2/50\n",
            " - 86s - loss: 0.3167 - my_iou_metric: 0.5282 - val_loss: 0.3636 - val_my_iou_metric: 0.5309\n",
            "\n",
            "Epoch 00002: my_iou_metric improved from 0.39159 to 0.52820, saving model to Unet_resnet_v5.model\n",
            "Epoch 3/50\n",
            " - 86s - loss: 0.2790 - my_iou_metric: 0.5649 - val_loss: 0.2927 - val_my_iou_metric: 0.5432\n",
            "\n",
            "Epoch 00003: my_iou_metric improved from 0.52820 to 0.56489, saving model to Unet_resnet_v5.model\n",
            "Epoch 4/50\n",
            " - 86s - loss: 0.2568 - my_iou_metric: 0.5746 - val_loss: 1.0277 - val_my_iou_metric: 0.0832\n",
            "\n",
            "Epoch 00004: my_iou_metric improved from 0.56489 to 0.57456, saving model to Unet_resnet_v5.model\n",
            "Epoch 5/50\n",
            " - 86s - loss: 0.2616 - my_iou_metric: 0.5737 - val_loss: 0.2732 - val_my_iou_metric: 0.5377\n",
            "\n",
            "Epoch 00005: my_iou_metric did not improve from 0.57456\n",
            "Epoch 6/50\n",
            " - 86s - loss: 0.2308 - my_iou_metric: 0.5879 - val_loss: 0.6366 - val_my_iou_metric: 0.4401\n",
            "\n",
            "Epoch 00006: my_iou_metric improved from 0.57456 to 0.58788, saving model to Unet_resnet_v5.model\n",
            "Epoch 7/50\n",
            " - 86s - loss: 0.2263 - my_iou_metric: 0.5976 - val_loss: 0.2280 - val_my_iou_metric: 0.6115\n",
            "\n",
            "Epoch 00007: my_iou_metric improved from 0.58788 to 0.59761, saving model to Unet_resnet_v5.model\n",
            "Epoch 8/50\n",
            " - 86s - loss: 0.2072 - my_iou_metric: 0.6128 - val_loss: 0.3171 - val_my_iou_metric: 0.5389\n",
            "\n",
            "Epoch 00008: my_iou_metric improved from 0.59761 to 0.61280, saving model to Unet_resnet_v5.model\n",
            "Epoch 9/50\n",
            " - 85s - loss: 0.2015 - my_iou_metric: 0.6197 - val_loss: 0.2314 - val_my_iou_metric: 0.6526\n",
            "\n",
            "Epoch 00009: my_iou_metric improved from 0.61280 to 0.61969, saving model to Unet_resnet_v5.model\n",
            "Epoch 10/50\n",
            " - 86s - loss: 0.1959 - my_iou_metric: 0.6357 - val_loss: 0.1858 - val_my_iou_metric: 0.6664\n",
            "\n",
            "Epoch 00010: my_iou_metric improved from 0.61969 to 0.63570, saving model to Unet_resnet_v5.model\n",
            "Epoch 11/50\n",
            " - 86s - loss: 0.1920 - my_iou_metric: 0.6463 - val_loss: 0.2530 - val_my_iou_metric: 0.5442\n",
            "\n",
            "Epoch 00011: my_iou_metric improved from 0.63570 to 0.64630, saving model to Unet_resnet_v5.model\n",
            "Epoch 12/50\n",
            " - 85s - loss: 0.1808 - my_iou_metric: 0.6506 - val_loss: 0.2009 - val_my_iou_metric: 0.6687\n",
            "\n",
            "Epoch 00012: my_iou_metric improved from 0.64630 to 0.65058, saving model to Unet_resnet_v5.model\n",
            "Epoch 13/50\n",
            " - 86s - loss: 0.1750 - my_iou_metric: 0.6617 - val_loss: 0.1653 - val_my_iou_metric: 0.6975\n",
            "\n",
            "Epoch 00013: my_iou_metric improved from 0.65058 to 0.66166, saving model to Unet_resnet_v5.model\n",
            "Epoch 14/50\n",
            " - 86s - loss: 0.1728 - my_iou_metric: 0.6711 - val_loss: 0.1903 - val_my_iou_metric: 0.6957\n",
            "\n",
            "Epoch 00014: my_iou_metric improved from 0.66166 to 0.67114, saving model to Unet_resnet_v5.model\n",
            "Epoch 15/50\n",
            " - 86s - loss: 0.1653 - my_iou_metric: 0.6837 - val_loss: 0.1779 - val_my_iou_metric: 0.6985\n",
            "\n",
            "Epoch 00015: my_iou_metric improved from 0.67114 to 0.68372, saving model to Unet_resnet_v5.model\n",
            "Epoch 16/50\n",
            " - 85s - loss: 0.1594 - my_iou_metric: 0.6893 - val_loss: 0.3452 - val_my_iou_metric: 0.5409\n",
            "\n",
            "Epoch 00016: my_iou_metric improved from 0.68372 to 0.68930, saving model to Unet_resnet_v5.model\n",
            "Epoch 17/50\n",
            " - 86s - loss: 0.1615 - my_iou_metric: 0.6928 - val_loss: 0.1960 - val_my_iou_metric: 0.6337\n",
            "\n",
            "Epoch 00017: my_iou_metric improved from 0.68930 to 0.69278, saving model to Unet_resnet_v5.model\n",
            "Epoch 18/50\n",
            " - 85s - loss: 0.1537 - my_iou_metric: 0.6960 - val_loss: 0.2018 - val_my_iou_metric: 0.5878\n",
            "\n",
            "Epoch 00018: my_iou_metric improved from 0.69278 to 0.69598, saving model to Unet_resnet_v5.model\n",
            "Epoch 19/50\n",
            " - 85s - loss: 0.1503 - my_iou_metric: 0.7063 - val_loss: 0.1511 - val_my_iou_metric: 0.7245\n",
            "\n",
            "Epoch 00019: my_iou_metric improved from 0.69598 to 0.70627, saving model to Unet_resnet_v5.model\n",
            "Epoch 20/50\n",
            " - 86s - loss: 0.1463 - my_iou_metric: 0.7124 - val_loss: 0.1709 - val_my_iou_metric: 0.6896\n",
            "\n",
            "Epoch 00020: my_iou_metric improved from 0.70627 to 0.71236, saving model to Unet_resnet_v5.model\n",
            "Epoch 21/50\n",
            " - 86s - loss: 0.1427 - my_iou_metric: 0.7196 - val_loss: 0.1563 - val_my_iou_metric: 0.7157\n",
            "\n",
            "Epoch 00021: my_iou_metric improved from 0.71236 to 0.71962, saving model to Unet_resnet_v5.model\n",
            "Epoch 22/50\n",
            " - 86s - loss: 0.1413 - my_iou_metric: 0.7089 - val_loss: 0.2203 - val_my_iou_metric: 0.6091\n",
            "\n",
            "Epoch 00022: my_iou_metric did not improve from 0.71962\n",
            "Epoch 23/50\n",
            " - 85s - loss: 0.1354 - my_iou_metric: 0.7221 - val_loss: 0.1977 - val_my_iou_metric: 0.6633\n",
            "\n",
            "Epoch 00023: my_iou_metric improved from 0.71962 to 0.72206, saving model to Unet_resnet_v5.model\n",
            "Epoch 24/50\n",
            " - 86s - loss: 0.1366 - my_iou_metric: 0.7314 - val_loss: 0.1422 - val_my_iou_metric: 0.7205\n",
            "\n",
            "Epoch 00024: my_iou_metric improved from 0.72206 to 0.73141, saving model to Unet_resnet_v5.model\n",
            "Epoch 25/50\n",
            " - 86s - loss: 0.1366 - my_iou_metric: 0.7228 - val_loss: 0.1516 - val_my_iou_metric: 0.7287\n",
            "\n",
            "Epoch 00025: my_iou_metric did not improve from 0.73141\n",
            "Epoch 26/50\n",
            " - 86s - loss: 0.1351 - my_iou_metric: 0.7293 - val_loss: 0.1570 - val_my_iou_metric: 0.7029\n",
            "\n",
            "Epoch 00026: my_iou_metric did not improve from 0.73141\n",
            "Epoch 27/50\n",
            " - 86s - loss: 0.1298 - my_iou_metric: 0.7350 - val_loss: 0.1218 - val_my_iou_metric: 0.7501\n",
            "\n",
            "Epoch 00027: my_iou_metric improved from 0.73141 to 0.73497, saving model to Unet_resnet_v5.model\n",
            "Epoch 28/50\n",
            " - 86s - loss: 0.1267 - my_iou_metric: 0.7354 - val_loss: 0.1344 - val_my_iou_metric: 0.7497\n",
            "\n",
            "Epoch 00028: my_iou_metric improved from 0.73497 to 0.73542, saving model to Unet_resnet_v5.model\n",
            "Epoch 29/50\n",
            " - 86s - loss: 0.1257 - my_iou_metric: 0.7424 - val_loss: 0.2061 - val_my_iou_metric: 0.7082\n",
            "\n",
            "Epoch 00029: my_iou_metric improved from 0.73542 to 0.74241, saving model to Unet_resnet_v5.model\n",
            "Epoch 30/50\n",
            " - 86s - loss: 0.1226 - my_iou_metric: 0.7344 - val_loss: 0.1341 - val_my_iou_metric: 0.7374\n",
            "\n",
            "Epoch 00030: my_iou_metric did not improve from 0.74241\n",
            "Epoch 31/50\n",
            " - 86s - loss: 0.1232 - my_iou_metric: 0.7374 - val_loss: 0.1431 - val_my_iou_metric: 0.7427\n",
            "\n",
            "Epoch 00031: my_iou_metric did not improve from 0.74241\n",
            "Epoch 32/50\n",
            " - 86s - loss: 0.1225 - my_iou_metric: 0.7408 - val_loss: 0.1371 - val_my_iou_metric: 0.7506\n",
            "\n",
            "Epoch 00032: my_iou_metric did not improve from 0.74241\n",
            "Epoch 33/50\n",
            " - 85s - loss: 0.1212 - my_iou_metric: 0.7416 - val_loss: 0.1621 - val_my_iou_metric: 0.7221\n",
            "\n",
            "Epoch 00033: my_iou_metric did not improve from 0.74241\n",
            "Epoch 34/50\n",
            " - 86s - loss: 0.1248 - my_iou_metric: 0.7400 - val_loss: 0.1230 - val_my_iou_metric: 0.7449\n",
            "\n",
            "Epoch 00034: my_iou_metric did not improve from 0.74241\n",
            "\n",
            "Epoch 00034: ReduceLROnPlateau reducing learning rate to 0.004999999888241291.\n",
            "Epoch 35/50\n",
            " - 86s - loss: 0.1046 - my_iou_metric: 0.7618 - val_loss: 0.1279 - val_my_iou_metric: 0.7659\n",
            "\n",
            "Epoch 00035: my_iou_metric improved from 0.74241 to 0.76181, saving model to Unet_resnet_v5.model\n",
            "Epoch 36/50\n",
            " - 86s - loss: 0.1024 - my_iou_metric: 0.7642 - val_loss: 0.1263 - val_my_iou_metric: 0.7588\n",
            "\n",
            "Epoch 00036: my_iou_metric improved from 0.76181 to 0.76423, saving model to Unet_resnet_v5.model\n",
            "Epoch 37/50\n",
            " - 86s - loss: 0.1034 - my_iou_metric: 0.7638 - val_loss: 0.1248 - val_my_iou_metric: 0.7655\n",
            "\n",
            "Epoch 00037: my_iou_metric did not improve from 0.76423\n",
            "Epoch 38/50\n",
            " - 86s - loss: 0.0998 - my_iou_metric: 0.7640 - val_loss: 0.1154 - val_my_iou_metric: 0.7714\n",
            "\n",
            "Epoch 00038: my_iou_metric did not improve from 0.76423\n",
            "Epoch 39/50\n",
            " - 86s - loss: 0.1005 - my_iou_metric: 0.7668 - val_loss: 0.1180 - val_my_iou_metric: 0.7710\n",
            "\n",
            "Epoch 00039: my_iou_metric improved from 0.76423 to 0.76677, saving model to Unet_resnet_v5.model\n",
            "Epoch 40/50\n",
            " - 86s - loss: 0.0961 - my_iou_metric: 0.7678 - val_loss: 0.1139 - val_my_iou_metric: 0.7721\n",
            "\n",
            "Epoch 00040: my_iou_metric improved from 0.76677 to 0.76780, saving model to Unet_resnet_v5.model\n",
            "Epoch 41/50\n",
            " - 86s - loss: 0.0946 - my_iou_metric: 0.7720 - val_loss: 0.1203 - val_my_iou_metric: 0.7521\n",
            "\n",
            "Epoch 00041: my_iou_metric improved from 0.76780 to 0.77200, saving model to Unet_resnet_v5.model\n",
            "Epoch 42/50\n",
            " - 86s - loss: 0.0948 - my_iou_metric: 0.7693 - val_loss: 0.1142 - val_my_iou_metric: 0.7621\n",
            "\n",
            "Epoch 00042: my_iou_metric did not improve from 0.77200\n",
            "Epoch 43/50\n",
            " - 86s - loss: 0.0926 - my_iou_metric: 0.7711 - val_loss: 0.1351 - val_my_iou_metric: 0.7426\n",
            "\n",
            "Epoch 00043: my_iou_metric did not improve from 0.77200\n",
            "Epoch 44/50\n",
            " - 86s - loss: 0.0950 - my_iou_metric: 0.7694 - val_loss: 0.1294 - val_my_iou_metric: 0.7540\n",
            "\n",
            "Epoch 00044: my_iou_metric did not improve from 0.77200\n",
            "Epoch 45/50\n",
            " - 86s - loss: 0.0927 - my_iou_metric: 0.7788 - val_loss: 0.1075 - val_my_iou_metric: 0.7779\n",
            "\n",
            "Epoch 00045: my_iou_metric improved from 0.77200 to 0.77878, saving model to Unet_resnet_v5.model\n",
            "Epoch 46/50\n",
            " - 86s - loss: 0.0921 - my_iou_metric: 0.7755 - val_loss: 0.1405 - val_my_iou_metric: 0.7531\n",
            "\n",
            "Epoch 00046: my_iou_metric did not improve from 0.77878\n",
            "Epoch 47/50\n",
            " - 86s - loss: 0.0907 - my_iou_metric: 0.7780 - val_loss: 0.1167 - val_my_iou_metric: 0.7761\n",
            "\n",
            "Epoch 00047: my_iou_metric did not improve from 0.77878\n",
            "Epoch 48/50\n",
            " - 86s - loss: 0.0881 - my_iou_metric: 0.7770 - val_loss: 0.1293 - val_my_iou_metric: 0.7697\n",
            "\n",
            "Epoch 00048: my_iou_metric did not improve from 0.77878\n",
            "Epoch 49/50\n",
            " - 86s - loss: 0.0888 - my_iou_metric: 0.7831 - val_loss: 0.1135 - val_my_iou_metric: 0.7789\n",
            "\n",
            "Epoch 00049: my_iou_metric improved from 0.77878 to 0.78314, saving model to Unet_resnet_v5.model\n",
            "Epoch 50/50\n",
            " - 86s - loss: 0.0884 - my_iou_metric: 0.7826 - val_loss: 0.1401 - val_my_iou_metric: 0.7465\n",
            "\n",
            "Epoch 00050: my_iou_metric did not improve from 0.78314\n"
          ],
          "name": "stdout"
        }
      ]
    },
    {
      "metadata": {
        "id": "F3DZKuF7IjfX",
        "colab_type": "code",
        "colab": {}
      },
      "cell_type": "code",
      "source": [
        "model1 = load_model(save_model_name,custom_objects={'my_iou_metric': my_iou_metric})\n",
        "# remove layter activation layer and use losvasz loss\n",
        "input_x = model1.layers[0].input\n",
        "\n",
        "output_layer = model1.layers[-1].input\n",
        "model = Model(input_x, output_layer)\n",
        "c = optimizers.adam(lr = 0.01)\n",
        "\n",
        "# lovasz_loss need input range (-∞，+∞), so cancel the last \"sigmoid\" activation  \n",
        "# Then the default threshod for pixel prediction is 0 instead of 0.5, as in my_iou_metric_2.\n",
        "model.compile(loss=lovasz_loss, optimizer=c, metrics=[my_iou_metric_2])\n",
        "\n",
        "#model.summary()"
      ],
      "execution_count": 0,
      "outputs": []
    },
    {
      "metadata": {
        "id": "Uxub5diSesTD",
        "colab_type": "code",
        "outputId": "be7cd950-d596-4230-826b-01a829996b26",
        "colab": {
          "base_uri": "https://localhost:8080/",
          "height": 459
        }
      },
      "cell_type": "code",
      "source": [
        "early_stopping = EarlyStopping(monitor='val_my_iou_metric_2', mode = 'max',patience=20, verbose=1)\n",
        "model_checkpoint = ModelCheckpoint(save_model_name,monitor='val_my_iou_metric_2', \n",
        "                                   mode = 'max', save_best_only=True, verbose=1)\n",
        "reduce_lr = ReduceLROnPlateau(monitor='val_my_iou_metric_2', mode = 'max',factor=0.5, patience=5, min_lr=0.0001, verbose=1)\n",
        "epochs = 50\n",
        "batch_size = 32\n",
        "\n",
        "history = model.fit(x_train, y_train,\n",
        "                    validation_data=[x_valid, y_valid], \n",
        "                    epochs=epochs,\n",
        "                    batch_size=batch_size,\n",
        "                    callbacks=[ model_checkpoint,reduce_lr,early_stopping], \n",
        "                    verbose=2)"
      ],
      "execution_count": 0,
      "outputs": [
        {
          "output_type": "stream",
          "text": [
            "Train on 6400 samples, validate on 800 samples\n",
            "Epoch 1/50\n",
            " - 207s - loss: 0.4332 - my_iou_metric_2: 0.7752 - val_loss: 0.7150 - val_my_iou_metric_2: 0.6336\n",
            "\n",
            "Epoch 00001: val_my_iou_metric_2 improved from -inf to 0.63362, saving model to Unet_resnet_v5.model\n",
            "Epoch 2/50\n",
            " - 194s - loss: 0.3900 - my_iou_metric_2: 0.7830 - val_loss: 0.4719 - val_my_iou_metric_2: 0.7439\n",
            "\n",
            "Epoch 00002: val_my_iou_metric_2 improved from 0.63362 to 0.74388, saving model to Unet_resnet_v5.model\n",
            "Epoch 3/50\n",
            " - 194s - loss: 0.3937 - my_iou_metric_2: 0.7784 - val_loss: 0.4903 - val_my_iou_metric_2: 0.7328\n",
            "\n",
            "Epoch 00003: val_my_iou_metric_2 did not improve from 0.74388\n",
            "Epoch 4/50\n",
            " - 193s - loss: 0.3953 - my_iou_metric_2: 0.7762 - val_loss: 0.4096 - val_my_iou_metric_2: 0.7699\n",
            "\n",
            "Epoch 00004: val_my_iou_metric_2 improved from 0.74388 to 0.76987, saving model to Unet_resnet_v5.model\n",
            "Epoch 5/50\n",
            " - 193s - loss: 0.3847 - my_iou_metric_2: 0.7811 - val_loss: 0.4302 - val_my_iou_metric_2: 0.7570\n",
            "\n",
            "Epoch 00005: val_my_iou_metric_2 did not improve from 0.76987\n",
            "Epoch 6/50\n",
            " - 193s - loss: 0.3957 - my_iou_metric_2: 0.7733 - val_loss: 0.4427 - val_my_iou_metric_2: 0.7573\n",
            "\n",
            "Epoch 00006: val_my_iou_metric_2 did not improve from 0.76987\n",
            "Epoch 7/50\n"
          ],
          "name": "stdout"
        }
      ]
    },
    {
      "metadata": {
        "id": "RgAPG7NrexaU",
        "colab_type": "code",
        "colab": {}
      },
      "cell_type": "code",
      "source": [
        "fig, (ax_loss, ax_score) = plt.subplots(1, 2, figsize=(15,5))\n",
        "ax_loss.plot(history.epoch, history.history[\"loss\"], label=\"Train loss\")\n",
        "ax_loss.plot(history.epoch, history.history[\"val_loss\"], label=\"Validation loss\")\n",
        "ax_loss.legend()\n",
        "ax_score.plot(history.epoch, history.history[\"my_iou_metric_2\"], label=\"Train score\")\n",
        "ax_score.plot(history.epoch, history.history[\"val_my_iou_metric_2\"], label=\"Validation score\")\n",
        "ax_score.legend()"
      ],
      "execution_count": 0,
      "outputs": []
    },
    {
      "metadata": {
        "id": "qG5Cfxcue0Ze",
        "colab_type": "code",
        "colab": {}
      },
      "cell_type": "code",
      "source": [
        "model = load_model(save_model_name,custom_objects={'my_iou_metric_2': my_iou_metric_2,\n",
        "                                                   'lovasz_loss': lovasz_loss})"
      ],
      "execution_count": 0,
      "outputs": []
    },
    {
      "metadata": {
        "id": "yNDnekQye3R1",
        "colab_type": "code",
        "colab": {}
      },
      "cell_type": "code",
      "source": [
        "def predict_result(model,x_test,img_size_target): # predict both orginal and reflect x\n",
        "    x_test_reflect =  np.array([np.fliplr(x) for x in x_test])\n",
        "    preds_test = model.predict(x_test).reshape(-1, img_size_target, img_size_target)\n",
        "    preds_test2_refect = model.predict(x_test_reflect).reshape(-1, img_size_target, img_size_target)\n",
        "    preds_test += np.array([ np.fliplr(x) for x in preds_test2_refect] )\n",
        "    return preds_test/2"
      ],
      "execution_count": 0,
      "outputs": []
    },
    {
      "metadata": {
        "id": "RNV-L6Bue6B4",
        "colab_type": "code",
        "colab": {}
      },
      "cell_type": "code",
      "source": [
        "preds_valid = predict_result(model,x_valid,img_size_target)"
      ],
      "execution_count": 0,
      "outputs": []
    },
    {
      "metadata": {
        "id": "pik_WGwae7uV",
        "colab_type": "code",
        "colab": {}
      },
      "cell_type": "code",
      "source": [
        "#Score the model and do a threshold optimization by the best IoU.\n",
        "\n",
        "# src: https://www.kaggle.com/aglotero/another-iou-metric\n",
        "def iou_metric(y_true_in, y_pred_in, print_table=False):\n",
        "    labels = y_true_in\n",
        "    y_pred = y_pred_in\n",
        "\n",
        "\n",
        "    true_objects = 2\n",
        "    pred_objects = 2\n",
        "\n",
        "    #  if all zeros, original code  generate wrong  bins [-0.5 0 0.5],\n",
        "    temp1 = np.histogram2d(labels.flatten(), y_pred.flatten(), bins=([0,0.5,1], [0,0.5, 1]))\n",
        "#     temp1 = np.histogram2d(labels.flatten(), y_pred.flatten(), bins=(true_objects, pred_objects))\n",
        "    #print(temp1)\n",
        "    intersection = temp1[0]\n",
        "    #print(\"temp2 = \",temp1[1])\n",
        "    #print(intersection.shape)\n",
        "   # print(intersection)\n",
        "    # Compute areas (needed for finding the union between all objects)\n",
        "    #print(np.histogram(labels, bins = true_objects))\n",
        "    area_true = np.histogram(labels,bins=[0,0.5,1])[0]\n",
        "    #print(\"area_true = \",area_true)\n",
        "    area_pred = np.histogram(y_pred, bins=[0,0.5,1])[0]\n",
        "    area_true = np.expand_dims(area_true, -1)\n",
        "    area_pred = np.expand_dims(area_pred, 0)\n",
        "\n",
        "    # Compute union\n",
        "    union = area_true + area_pred - intersection\n",
        "  \n",
        "    # Exclude background from the analysis\n",
        "    intersection = intersection[1:,1:]\n",
        "    intersection[intersection == 0] = 1e-9\n",
        "    \n",
        "    union = union[1:,1:]\n",
        "    union[union == 0] = 1e-9\n",
        "\n",
        "    # Compute the intersection over union\n",
        "    iou = intersection / union\n",
        "\n",
        "    # Precision helper function\n",
        "    def precision_at(threshold, iou):\n",
        "        matches = iou > threshold\n",
        "        true_positives = np.sum(matches, axis=1) == 1   # Correct objects\n",
        "        false_positives = np.sum(matches, axis=0) == 0  # Missed objects\n",
        "        false_negatives = np.sum(matches, axis=1) == 0  # Extra objects\n",
        "        tp, fp, fn = np.sum(true_positives), np.sum(false_positives), np.sum(false_negatives)\n",
        "        return tp, fp, fn\n",
        "\n",
        "    # Loop over IoU thresholds\n",
        "    prec = []\n",
        "    if print_table:\n",
        "        print(\"Thresh\\tTP\\tFP\\tFN\\tPrec.\")\n",
        "    for t in np.arange(0.5, 1.0, 0.05):\n",
        "        tp, fp, fn = precision_at(t, iou)\n",
        "        if (tp + fp + fn) > 0:\n",
        "            p = tp / (tp + fp + fn)\n",
        "        else:\n",
        "            p = 0\n",
        "        if print_table:\n",
        "            print(\"{:1.3f}\\t{}\\t{}\\t{}\\t{:1.3f}\".format(t, tp, fp, fn, p))\n",
        "        prec.append(p)\n",
        "    \n",
        "    if print_table:\n",
        "        print(\"AP\\t-\\t-\\t-\\t{:1.3f}\".format(np.mean(prec)))\n",
        "    return np.mean(prec)\n",
        "\n",
        "def iou_metric_batch(y_true_in, y_pred_in):\n",
        "    batch_size = y_true_in.shape[0]\n",
        "    metric = []\n",
        "    for batch in range(batch_size):\n",
        "        value = iou_metric(y_true_in[batch], y_pred_in[batch])\n",
        "        metric.append(value)\n",
        "    return np.mean(metric)"
      ],
      "execution_count": 0,
      "outputs": []
    },
    {
      "metadata": {
        "id": "LoBXBXlee_OE",
        "colab_type": "code",
        "colab": {}
      },
      "cell_type": "code",
      "source": [
        "## Scoring for last model, choose threshold by validation data \n",
        "thresholds_ori = np.linspace(0.3, 0.7, 31)\n",
        "# Reverse sigmoid function: Use code below because the  sigmoid activation was removed\n",
        "thresholds = np.log(thresholds_ori/(1-thresholds_ori)) \n",
        "\n",
        "# ious = np.array([get_iou_vector(y_valid, preds_valid > threshold) for threshold in tqdm_notebook(thresholds)])\n",
        "# print(ious)\n",
        "ious = np.array([iou_metric_batch(y_valid, preds_valid > threshold) for threshold in tqdm_notebook(thresholds)])\n",
        "print(ious)"
      ],
      "execution_count": 0,
      "outputs": []
    },
    {
      "metadata": {
        "id": "v2WAK60wfBYw",
        "colab_type": "code",
        "colab": {}
      },
      "cell_type": "code",
      "source": [
        "# instead of using default 0 as threshold, use validation data to find the best threshold.\n",
        "threshold_best_index = np.argmax(ious) \n",
        "iou_best = ious[threshold_best_index]\n",
        "threshold_best = thresholds[threshold_best_index]\n",
        "\n",
        "plt.plot(thresholds, ious)\n",
        "plt.plot(threshold_best, iou_best, \"xr\", label=\"Best threshold\")\n",
        "plt.xlabel(\"Threshold\")\n",
        "plt.ylabel(\"IoU\")\n",
        "plt.title(\"Threshold vs IoU ({}, {})\".format(threshold_best, iou_best))\n",
        "plt.legend()"
      ],
      "execution_count": 0,
      "outputs": []
    },
    {
      "metadata": {
        "id": "fc3YRSfIfE_Z",
        "colab_type": "code",
        "colab": {}
      },
      "cell_type": "code",
      "source": [
        ""
      ],
      "execution_count": 0,
      "outputs": []
    }
  ]
}