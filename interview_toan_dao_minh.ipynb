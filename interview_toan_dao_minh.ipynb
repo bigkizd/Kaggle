{
  "nbformat": 4,
  "nbformat_minor": 0,
  "metadata": {
    "colab": {
      "name": "interview-toan-dao-minh.ipynb",
      "version": "0.3.2",
      "provenance": [],
      "collapsed_sections": [],
      "include_colab_link": true
    },
    "kernelspec": {
      "name": "python3",
      "display_name": "Python 3"
    }
  },
  "cells": [
    {
      "cell_type": "markdown",
      "metadata": {
        "id": "view-in-github",
        "colab_type": "text"
      },
      "source": [
        "<a href=\"https://colab.research.google.com/github/toandaominh1997/Kaggle/blob/master/interview_toan_dao_minh.ipynb\" target=\"_parent\"><img src=\"https://colab.research.google.com/assets/colab-badge.svg\" alt=\"Open In Colab\"/></a>"
      ]
    },
    {
      "metadata": {
        "id": "D4j6MXn7xcYX",
        "colab_type": "text"
      },
      "cell_type": "markdown",
      "source": [
        "## Challenge 1\n",
        "\n",
        "Write a function \n",
        "\n",
        "```\n",
        "f(n)\n",
        "```\n",
        "that calculates the probability that there is at least 1 pair of people in a room of n people sharing the same birthday (same day and month).\n",
        "```\n",
        "n >= 1\n",
        "```\n",
        "\n",
        "Use the function to find the minimum number of people in a room so that the above probability is above 50%."
      ]
    },
    {
      "metadata": {
        "id": "qNYhQ_I9xjAv",
        "colab_type": "code",
        "outputId": "f5b899fa-bff3-405c-8e84-5dba2e428bf3",
        "colab": {
          "base_uri": "https://localhost:8080/",
          "height": 51
        }
      },
      "cell_type": "code",
      "source": [
        "p = list()\n",
        "\"\"\"\n",
        "Chặt nhị phân với mảng arr được sắp xếp tăng dần\n",
        "l<=r để tìm kiếm phần tử trong mảng >= x\n",
        "Trả về index trong mảng\n",
        "\"\"\"\n",
        "def binarySearch (arr, l, r, x): \n",
        "    while(l<=r):\n",
        "      mid = l+(r-l)/2\n",
        "      if(arr[int(mid)]==x):\n",
        "        return x\n",
        "      elif(arr[int(mid)]>=x):\n",
        "        r=mid\n",
        "      else:\n",
        "        l = mid+1\n",
        "    return l\n",
        "def min(a, b):\n",
        "  if(a<b):\n",
        "    return a\n",
        "  return b\n",
        "\"\"\"\n",
        "Note:\n",
        "  - Neu n>365(Khong tinh nam nhuan) thi xac suat la 0.0\n",
        "    Nguoc lai:\n",
        "      n nguoi co xac suat la: 1 - 365.364...(365-n+1)/(365**n)\n",
        "      Luu xac suat cua 365 nguoi vao mang p va them xac suat bang 0 neu vuot qua 365 nguoi\n",
        "      Vi xac suat da tang dan nen ta chat nhi phan cho mang p de tim xac suat > 0.5, Tra ve index trong mang p va vi mang duoc luu tu 0 nen ket qua la index+1\n",
        "\"\"\"\n",
        "def f(n):\n",
        "  res = 1.0\n",
        "  for i in reversed(range(1, 366)):\n",
        "    res  = res * i/365\n",
        "    p.append(1.0000-res)\n",
        "  p.append(0.0)\n",
        "  return p[min(365, n-1)]\n",
        "\n",
        "n = 377\n",
        "print(\"probability that there is at least 1 pair of people in a room of {0} people sharing the same birthday: {1}\".format( n, f(n)))\n",
        "\n",
        "print(\"Minimum number of people in a room so that the above probability is above 50%: \", int(binarySearch(p, 0, 365, 0.5)+1))\n"
      ],
      "execution_count": 0,
      "outputs": [
        {
          "output_type": "stream",
          "text": [
            "probability that there is at least 1 pair of people in a room of 377 people sharing the same birthday: 0.0\n",
            "Minimum number of people in a room so that the above probability is above 50%:  23\n"
          ],
          "name": "stdout"
        }
      ]
    },
    {
      "metadata": {
        "id": "blW6Q7TRaD7r",
        "colab_type": "text"
      },
      "cell_type": "markdown",
      "source": [
        "# Challenge 2\n",
        "\n",
        "The following function has `O(b-a)` runtime. Refactor the function so it runs in `O(1)` time"
      ]
    },
    {
      "metadata": {
        "id": "7go9h5IJaDVg",
        "colab_type": "code",
        "colab": {}
      },
      "cell_type": "code",
      "source": [
        "import numpy as np\n",
        "def g(a: int, b: int) -> int:\n",
        "    assert a >= 0, 'Invalid input'\n",
        "    return a ^ b if b == a + 1 else b ^ g(a, b-1)\n",
        "\n",
        "\"\"\"\n",
        "Note:\n",
        "  - Have: 4*i^(4*i+1)^(4*i+2)^(4*i+3) = 0\n",
        "  Then:\n",
        "    Nếu a, b nằm trong 4*(a/4)+0 -> 4*(a/4)+3\n",
        "        Thì ta sẽ xor từ 4*(a/4)+0 -> 4*(a/4)+3 lại với nhau=> O(4) ~ O(1)\n",
        "    Ngược lại:\n",
        "        Ta cắt 2 đầu của [a, b] thành:\n",
        "          + a-a%4 -> a+3-a%4, xor lại với nhau => O(4) ~ O(1)\n",
        "          + b-0 -> b%4, xor lại với nhau =>O(4) ~O(1)\n",
        "    => Độ phức tạp tuyến tính sấp sỉ bằng O(1)\n",
        "\"\"\"\n",
        "def XOR(a, b):\n",
        "  ka = int(a/4)\n",
        "  kb = int(b/4)\n",
        "  res= 0\n",
        "  if(ka==kb):\n",
        "    for i in range(a+1, b+1):\n",
        "      a = a^i\n",
        "    return a\n",
        "  for i in range(a%4, 4):\n",
        "    res = res ^ (a+i-a%4)\n",
        "  for i in range(0, b%4+1):\n",
        "    res = res ^ (b-i)\n",
        "  return res\n",
        "\n",
        "#Test a thuoc [1, 20), b thuoc(30, 40] từng đôi một\n",
        "for i in range(1, 20):\n",
        "  for j in range(30, 40):\n",
        "    if(g(i, j)!=XOR(i, j)):\n",
        "      print(\"False\")\n",
        "  "
      ],
      "execution_count": 0,
      "outputs": []
    },
    {
      "metadata": {
        "id": "fSPCSkCcHfr3",
        "colab_type": "code",
        "colab": {}
      },
      "cell_type": "code",
      "source": [
        ""
      ],
      "execution_count": 0,
      "outputs": []
    }
  ]
}